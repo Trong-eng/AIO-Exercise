{
  "cells": [
    {
      "cell_type": "code",
      "execution_count": 2,
      "metadata": {
        "colab": {
          "base_uri": "https://localhost:8080/"
        },
        "id": "aVnhSS9SU5CI",
        "outputId": "43680b93-f989-4575-9880-e18496208390"
      },
      "outputs": [
        {
          "name": "stdout",
          "output_type": "stream",
          "text": [
            "[['Sunny' 'Hot' 'High' 'Weak' 'no']\n",
            " ['Sunny' 'Hot' 'High' 'Strong' 'no']\n",
            " ['Overcast' 'Hot' 'High' 'Weak' 'yes']\n",
            " ['Rain' 'Mild' 'High' 'Weak' 'yes']\n",
            " ['Rain' 'Cool' 'Normal' 'Weak' 'yes']\n",
            " ['Rain' 'Cool' 'Normal' 'Strong' 'no']\n",
            " ['Overcast' 'Cool' 'Normal' 'Strong' 'yes']\n",
            " ['Sunny' 'Mild' 'High' 'Weak' 'no']\n",
            " ['Sunny' 'Cool' 'Normal' 'Weak' 'yes']\n",
            " ['Rain' 'Mild' 'Normal' 'Weak' 'yes']]\n"
          ]
        }
      ],
      "source": [
        "import numpy as np\n",
        "\n",
        "def create_train_data():\n",
        "    data = [\n",
        "        ['Sunny', 'Hot', 'High', 'Weak', 'no'],\n",
        "        ['Sunny', 'Hot', 'High', 'Strong', 'no'],\n",
        "        ['Overcast', 'Hot', 'High', 'Weak', 'yes'],\n",
        "        ['Rain', 'Mild', 'High', 'Weak', 'yes'],\n",
        "        ['Rain', 'Cool', 'Normal', 'Weak', 'yes'],\n",
        "        ['Rain', 'Cool', 'Normal', 'Strong', 'no'],\n",
        "        ['Overcast', 'Cool', 'Normal', 'Strong', 'yes'],\n",
        "        ['Sunny', 'Mild', 'High', 'Weak', 'no'],\n",
        "        ['Sunny', 'Cool', 'Normal', 'Weak', 'yes'],\n",
        "        ['Rain', 'Mild', 'Normal', 'Weak', 'yes']\n",
        "    ]\n",
        "    return np.array(data)\n",
        "train_data = create_train_data()\n",
        "print(train_data)"
      ]
    },
    {
      "cell_type": "code",
      "execution_count": 3,
      "metadata": {
        "colab": {
          "base_uri": "https://localhost:8080/"
        },
        "id": "bCkBde3_VAuJ",
        "outputId": "edd2b3b1-5c9c-4266-a149-22b77d492fe0"
      },
      "outputs": [
        {
          "data": {
            "text/plain": [
              "array([0.4, 0.6])"
            ]
          },
          "execution_count": 3,
          "metadata": {},
          "output_type": "execute_result"
        }
      ],
      "source": [
        "import numpy as np\n",
        "def compute_prior_probability(train_data):\n",
        "    y_unique = ['no', 'yes']\n",
        "    prior_probability = np.zeros(len(y_unique))\n",
        "    for i in range(len(y_unique)):\n",
        "        prior_probability[i] = len(np.where(train_data[:, 4] == y_unique[i])[0]) / len(train_data)\n",
        "    return prior_probability\n",
        "compute_prior_probability(np.array([\n",
        "        ['Sunny', 'Hot', 'High', 'Weak', 'no'],\n",
        "        ['Sunny', 'Hot', 'High', 'Strong', 'no'],\n",
        "        ['Overcast', 'Hot', 'High', 'Weak', 'yes'],\n",
        "        ['Rain', 'Mild', 'High', 'Weak', 'yes'],\n",
        "        ['Rain', 'Cool', 'Normal', 'Weak', 'yes'],\n",
        "        ['Rain', 'Cool', 'Normal', 'Strong', 'no'],\n",
        "        ['Overcast', 'Cool', 'Normal', 'Strong', 'yes'],\n",
        "        ['Sunny', 'Mild', 'High', 'Weak', 'no'],\n",
        "        ['Sunny', 'Cool', 'Normal', 'Weak', 'yes'],\n",
        "        ['Rain', 'Mild', 'Normal', 'Weak', 'yes']\n",
        "    ]))"
      ]
    },
    {
      "cell_type": "code",
      "execution_count": 4,
      "metadata": {
        "colab": {
          "base_uri": "https://localhost:8080/"
        },
        "id": "7FnajJ1FVBu_",
        "outputId": "5c7f28b9-b2a5-488f-ed2b-328a35d46c85"
      },
      "outputs": [
        {
          "name": "stdout",
          "output_type": "stream",
          "text": [
            "[array([[0.        , 0.25      , 0.75      ],\n",
            "       [0.33333333, 0.5       , 0.16666667]]), array([[0.25      , 0.5       , 0.25      ],\n",
            "       [0.5       , 0.16666667, 0.33333333]]), array([[0.75      , 0.25      ],\n",
            "       [0.33333333, 0.66666667]]), array([[0.5       , 0.5       ],\n",
            "       [0.16666667, 0.83333333]])]\n",
            "[array(['Overcast', 'Rain', 'Sunny'], dtype='<U8'), array(['Cool', 'Hot', 'Mild'], dtype='<U8'), array(['High', 'Normal'], dtype='<U8'), array(['Strong', 'Weak'], dtype='<U8')]\n"
          ]
        }
      ],
      "source": [
        "def create_train_data():\n",
        "    data = [\n",
        "        ['Sunny', 'Hot', 'High', 'Weak', 'no'],\n",
        "        ['Sunny', 'Hot', 'High', 'Strong', 'no'],\n",
        "        ['Overcast', 'Hot', 'High', 'Weak', 'yes'],\n",
        "        ['Rain', 'Mild', 'High', 'Weak', 'yes'],\n",
        "        ['Rain', 'Cool', 'Normal', 'Weak', 'yes'],\n",
        "        ['Rain', 'Cool', 'Normal', 'Strong', 'no'],\n",
        "        ['Overcast', 'Cool', 'Normal', 'Strong', 'yes'],\n",
        "        ['Sunny', 'Mild', 'High', 'Weak', 'no'],\n",
        "        ['Sunny', 'Cool', 'Normal', 'Weak', 'yes'],\n",
        "        ['Rain', 'Mild', 'Normal', 'Weak', 'yes']\n",
        "    ]\n",
        "    return np.array(data)\n",
        "train_data = create_train_data()\n",
        "def compute_conditional_probability(train_data):\n",
        "    y_unique = ['no', 'yes']\n",
        "    conditional_probability = []\n",
        "    list_x_name = []\n",
        "    for i in range(train_data.shape[1] - 1):\n",
        "        x_unique = np.unique(train_data[:, i])\n",
        "        list_x_name.append(x_unique)\n",
        "        x_conditional_probability = np.zeros((len(y_unique), len(x_unique)))\n",
        "        for j in range(len(y_unique)):\n",
        "            for k in range(len(x_unique)):\n",
        "                x_conditional_probability[j, k] = len(np.where((train_data[:, i] == x_unique[k]) & (train_data[:, 4] == y_unique[j]))[0])  / len(np.where(train_data[:, 4] == y_unique[j])[0])\n",
        "        conditional_probability.append(x_conditional_probability)\n",
        "    return conditional_probability, list_x_name\n",
        "\n",
        "train_data = create_train_data()\n",
        "conditional_prob, list_x_name = compute_conditional_probability(train_data)\n",
        "print(conditional_prob)\n",
        "print(list_x_name)\n",
        "train_data = create_train_data()\n",
        "list_x_name = compute_conditional_probability(train_data)"
      ]
    },
    {
      "cell_type": "code",
      "execution_count": 6,
      "metadata": {
        "id": "YEN6xlsTVM0N"
      },
      "outputs": [],
      "source": [
        "1 # ##########################\n",
        "2 # Train Naive Bayes Model\n",
        "3 # ##########################\n",
        "def train_naive_bayes ( train_data ) :\n",
        "    # Step 1: Calculate Prior Probability\n",
        "    y_unique = ['no', 'yes']\n",
        "    prior_probability = compute_prior_probablity ( train_data )\n",
        "    # Step 2: Calculate Conditional Probability\n",
        "    conditional_probability , list_x_name = compute_conditional_probability ( train_data)\n",
        "    return prior_probability , conditional_probability , list_x_name"
      ]
    },
    {
      "cell_type": "code",
      "execution_count": 1,
      "metadata": {
        "id": "vbzHBfC6VhCJ"
      },
      "outputs": [],
      "source": [
        "def get_index(f_name,list_features):\n",
        "    return np.where(list_feature == f_name)[0][0]\n",
        "def predict(X, list_x_name, prior_probability, conditional_probability):\n",
        "    x1 = get_index(X[0], list_x_name[0])\n",
        "    x2 = get_index(X[1], list_x_name[1])\n",
        "    x3 = get_index(X[2], list_x_name[2])\n",
        "    x4 = get_index(X[3], list_x_name[3])\n",
        "\n",
        "    p0 = prior_probability[0] * \\\n",
        "         conditional_probability[0][0, x1] * \\\n",
        "         conditional_probability[1][0, x2] * \\\n",
        "         conditional_probability[2][0, x3] * \\\n",
        "         conditional_probability[3][0, x4]\n",
        "\n",
        "    p1 = prior_probability[1] * \\\n",
        "         conditional_probability[0][1, x1] * \\\n",
        "         conditional_probability[1][1, x2] * \\\n",
        "         conditional_probability[2][1, x3] * \\\n",
        "         conditional_probability[3][1, x4]\n",
        "\n",
        "    if p0 > p1:\n",
        "        y_pred = 'no', p0\n",
        "    else:\n",
        "        y_pred = 'yes', p1\n",
        "\n",
        "    return y_pred"
      ]
    }
  ],
  "metadata": {
    "colab": {
      "provenance": []
    },
    "kernelspec": {
      "display_name": "Python 3",
      "name": "python3"
    },
    "language_info": {
      "name": "python"
    }
  },
  "nbformat": 4,
  "nbformat_minor": 0
}
