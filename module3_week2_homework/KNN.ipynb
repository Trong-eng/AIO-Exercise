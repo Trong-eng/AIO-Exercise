{
  "nbformat": 4,
  "nbformat_minor": 0,
  "metadata": {
    "colab": {
      "provenance": []
    },
    "kernelspec": {
      "name": "python3",
      "display_name": "Python 3"
    },
    "language_info": {
      "name": "python"
    }
  },
  "cells": [
    {
      "cell_type": "code",
      "execution_count": null,
      "metadata": {
        "id": "6l3ESecjsIbD"
      },
      "outputs": [],
      "source": [
        "import numpy as np\n",
        "import matplotlib.pyplot as plt\n",
        "from matplotlib.animation import FuncAnimation\n",
        "from sklearn import datasets\n",
        "from sklearn.model_selection import train_test_split\n",
        "\n",
        "class KNN:\n",
        "    def __init__(self, n_neighbors=3):\n",
        "        self.n_neighbors = n_neighbors\n",
        "\n",
        "    def fit(self, X_train, y_train):\n",
        "        self.X_train = X_train\n",
        "        self.y_train = y_train\n",
        "\n",
        "    def predict(self, X_test):\n",
        "        predictions = []\n",
        "        for x in X_test:\n",
        "            distances = np.linalg.norm(self.X_train - x, axis=1)\n",
        "            nearest_neighbors = np.argsort(distances)[:self.n_neighbors]\n",
        "            nearest_labels = self.y_train[nearest_neighbors]\n",
        "            predictions.append(np.argmax(np.bincount(nearest_labels)))\n",
        "        return np.array(predictions)\n",
        "\n",
        "    def plot_classification(self, X_train, y_train, X_test, y_test, ax1):\n",
        "        ax1.clear()\n",
        "        ax1.scatter(X_train[:, 0], X_train[:, 1], c=y_train, cmap='viridis', label='Training Data')\n",
        "        ax1.scatter(X_test[:, 0], X_test[:, 1], c=y_test, cmap='viridis', marker='x', edgecolor='k',\n",
        "                    label='Test Data', linewidths=2)\n",
        "        ax1.set_xlabel('Feature 1')\n",
        "        ax1.set_ylabel('Feature 2')\n",
        "        ax1.set_title('KNN Classification')\n",
        "        ax1.legend()\n",
        "\n",
        "    def animate_classification(self, X_train, y_train, X_test, y_test):\n",
        "        self.fig, (self.ax1, self.ax2) = plt.subplots(1, 2, figsize=(12, 6))\n",
        "\n",
        "        # Plot all data on ax2 once with 'o' markers\n",
        "        self.ax2.scatter(X[:, 0], X[:, 1], c=y, cmap='viridis', marker='o')\n",
        "        self.ax2.set_xlabel('Feature 1')\n",
        "        self.ax2.set_ylabel('Feature 2')\n",
        "        self.ax2.set_title('Original Data')\n",
        "        self.ax2.legend()\n",
        "\n",
        "        def update(frame):\n",
        "            if frame < len(X_test):\n",
        "                x = X_test[frame]\n",
        "                distances = np.linalg.norm(self.X_train - x, axis=1)\n",
        "                nearest_neighbors = np.argsort(distances)[:self.n_neighbors]\n",
        "                nearest_labels = self.y_train[nearest_neighbors]\n",
        "                prediction = np.argmax(np.bincount(nearest_labels))\n",
        "                self.plot_classification(X_train, y_train, X_test[:frame+1], y_test[:frame+1], self.ax1)\n",
        "                self.ax1.scatter(x[0], x[1], c='red', marker='o', edgecolor='k', s=100, label='Current Test Point')\n",
        "                self.ax1.legend()\n",
        "\n",
        "        anim = FuncAnimation(self.fig, update, frames=len(X_test), repeat=False)\n",
        "        plt.show()\n",
        "\n",
        "# Example usage\n",
        "iris = datasets.load_iris()\n",
        "X = iris.data[:, :2]  # Use only the first two features for simplicity\n",
        "y = iris.target\n",
        "\n",
        "X_train, X_test, y_train, y_test = train_test_split(X, y, test_size=0.2, random_state=42)\n",
        "\n",
        "knn = KNN(n_neighbors=7)\n",
        "knn.fit(X_train, y_train)\n",
        "knn.animate_classification(X_train, y_train, X_test, y_test)\n"
      ]
    }
  ]
}