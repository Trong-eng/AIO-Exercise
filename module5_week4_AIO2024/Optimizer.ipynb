{
  "nbformat": 4,
  "nbformat_minor": 0,
  "metadata": {
    "colab": {
      "provenance": [],
      "toc_visible": true
    },
    "kernelspec": {
      "name": "python3",
      "display_name": "Python 3"
    },
    "language_info": {
      "name": "python"
    }
  },
  "cells": [
    {
      "cell_type": "markdown",
      "source": [
        "# Gradient Descent"
      ],
      "metadata": {
        "id": "RkbUeryPoPFL"
      }
    },
    {
      "cell_type": "code",
      "source": [
        "import numpy as np\n",
        "def df_w(W):\n",
        "    \"\"\"\n",
        "    Thực hiện tính gradient của dw1 và dw2\n",
        "    Arguments:\n",
        "    W -- np.array [w1, w2]\n",
        "    Returns:\n",
        "    dW -- np.array [dw1, dw2], array chứa giá trị đạo hàm theo w1 và w2\n",
        "    \"\"\"\n",
        "    ################## YOUR CODE HERE ##################\n",
        "\n",
        "    dW = np.array([0.2 * W[0], 4 * W[1]])\n",
        "\n",
        "    #####################################################\n",
        "\n",
        "    return dW\n",
        "\n",
        "def sgd(W, dW, lr):\n",
        "    \"\"\"\n",
        "    Thực hiện thuật toán Gradient Descent để update w1 và w2\n",
        "    Arguments:\n",
        "    W -- np.array: [w1, w2]\n",
        "    dW -- np.array: [dw1, dw2], array chứa giá trị đạo hàm theo w1 và w2\n",
        "    lr -- float: learning rate\n",
        "    Returns:\n",
        "    W -- np.array: [w1, w2] w1 và w2 sau khi đã update\n",
        "    \"\"\"\n",
        "    ################## YOUR CODE HERE ##################\n",
        "\n",
        "    W = W - lr * dW\n",
        "\n",
        "    #####################################################\n",
        "\n",
        "    return W\n",
        "\n",
        "def train_pl(optimizer, lr, epochs):\n",
        "    \"\"\"\n",
        "    Thực hiện tìm điểm minimum của function (1) dựa vào thuật toán\n",
        "    được truyền vào từ optimizer\n",
        "    Arguments:\n",
        "    optimize : function thực hiện thuật toán optimization cụ thể\n",
        "    lr -- float: learning rate\n",
        "    epoch -- int: số lượng lần (epoch) lặp để tìm điểm minimum\n",
        "    Returns:\n",
        "    results -- list: list các cặp điểm [w1, w2] sau mỗi epoch (mỗi lần cập nhật)\n",
        "    \"\"\"\n",
        "    # initial point\n",
        "    W = np.array([-5, -2], dtype=np.float32)\n",
        "    # list of results\n",
        "    results = [W]\n",
        "    ################## YOUR CODE HERE ##################\n",
        "    # Tạo vòng lặp theo số lần epochs\n",
        "    for epoch in range(epochs):\n",
        "        # tìm gradient dW gồm dw1 và dw2\n",
        "        dW = df_w(W)\n",
        "        # dùng thuật toán optimization cập nhật w1 và w2\n",
        "        W = optimizer(W, dW, lr)\n",
        "        # append cặp [w1, w2] vào list results\n",
        "        results.append(W)\n",
        "    #####################################################\n",
        "\n",
        "    return results\n",
        "\n",
        "print(train_pl(sgd, 0.4, 2))\n",
        "print(train_pl(sgd, 0.4, 30))\n"
      ],
      "metadata": {
        "colab": {
          "base_uri": "https://localhost:8080/"
        },
        "id": "VM8bzp_loSYH",
        "outputId": "1103ceda-7a8a-419d-a2cc-8e9ff30dd129"
      },
      "execution_count": 25,
      "outputs": [
        {
          "output_type": "stream",
          "name": "stdout",
          "text": [
            "[array([-5., -2.], dtype=float32), array([-4.6,  1.2]), array([-4.232, -0.72 ])]\n",
            "[array([-5., -2.], dtype=float32), array([-4.6,  1.2]), array([-4.232, -0.72 ]), array([-3.89344,  0.432  ]), array([-3.5819648, -0.2592   ]), array([-3.29540762,  0.15552   ]), array([-3.03177501, -0.093312  ]), array([-2.78923301,  0.0559872 ]), array([-2.56609437, -0.03359232]), array([-2.36080682,  0.02015539]), array([-2.17194227, -0.01209324]), array([-1.99818689,  0.00725594]), array([-1.83833194, -0.00435356]), array([-1.69126538,  0.00261214]), array([-1.55596415, -0.00156728]), array([-1.43148702e+00,  9.40369969e-04]), array([-1.31696806e+00, -5.64221981e-04]), array([-1.21161061e+00,  3.38533189e-04]), array([-1.11468176e+00, -2.03119913e-04]), array([-1.02550722e+00,  1.21871948e-04]), array([-9.43466646e-01, -7.31231688e-05]), array([-8.67989314e-01,  4.38739013e-05]), array([-7.98550169e-01, -2.63243408e-05]), array([-7.34666155e-01,  1.57946045e-05]), array([-6.75892863e-01, -9.47676268e-06]), array([-6.21821434e-01,  5.68605761e-06]), array([-5.72075719e-01, -3.41163456e-06]), array([-5.26309662e-01,  2.04698074e-06]), array([-4.84204889e-01, -1.22818844e-06]), array([-4.45468498e-01,  7.36913066e-07]), array([-4.09831018e-01, -4.42147839e-07])]\n"
          ]
        }
      ]
    },
    {
      "cell_type": "markdown",
      "source": [
        "# Gradient Momentum"
      ],
      "metadata": {
        "id": "kI6XBORMpBQY"
      }
    },
    {
      "cell_type": "code",
      "source": [
        "def sgd_momentum(df_w,v_prev, dr = 0.5):\n",
        "  v_new = dr * v_prev + (1-dr) * df_w\n",
        "  return v_new\n",
        "def train_ph(optimizer,v_prev, lr, epochs):\n",
        "  W = np.array([-5, -2], dtype=np.float32)\n",
        "  for epoch in range(epochs):\n",
        "    v_prev = sgd_momentum(df_w(W),v_prev)\n",
        "    W = W - lr * v_prev\n",
        "  return W\n",
        "print(train_ph(sgd_momentum,np.array([0,0]),0.6,2))\n",
        "print(train_ph(sgd_momentum,np.array([0,0]),0.6,30))\n"
      ],
      "metadata": {
        "colab": {
          "base_uri": "https://localhost:8080/"
        },
        "id": "HRBHZf_qrboi",
        "outputId": "358d4e21-7618-4a42-ea2a-4783f72a0458"
      },
      "execution_count": 28,
      "outputs": [
        {
          "output_type": "stream",
          "name": "stdout",
          "text": [
            "[-4.268  1.12 ]\n",
            "[-6.10072592e-02  6.45162933e-05]\n"
          ]
        }
      ]
    },
    {
      "cell_type": "markdown",
      "source": [
        "# RMSProp"
      ],
      "metadata": {
        "id": "_t7yBp4YOjTA"
      }
    },
    {
      "cell_type": "code",
      "source": [
        "def sgd_RMSProp(df_w,S, r = 0.9):\n",
        "  S_new = r * S + (1-r) * ((df_w)**2)\n",
        "  return S_new\n",
        "def train_pk(optimizer,S, lr, epochs,epsilon= 10**(-6)):\n",
        "  W = np.array([-5, -2], dtype=np.float32)\n",
        "  for epoch in range(epochs):\n",
        "    S = sgd_RMSProp(df_w(W),S)\n",
        "    W = W - lr * df_w(W)/np.sqrt(S+epsilon)\n",
        "  return W\n",
        "print(train_pk(sgd_RMSProp,np.array([0,0]),0.3,2))\n",
        "print(train_pk(sgd_RMSProp,np.array([0,0]),0.3,30))\n"
      ],
      "metadata": {
        "colab": {
          "base_uri": "https://localhost:8080/"
        },
        "id": "oX3Y_owkOnxK",
        "outputId": "c8184479-5bb5-4401-ee2f-e545ddab1ad9"
      },
      "execution_count": 30,
      "outputs": [
        {
          "output_type": "stream",
          "name": "stdout",
          "text": [
            "[-3.43519754 -0.59152343]\n",
            "[-3.00577081e-03 -3.00506084e-17]\n"
          ]
        }
      ]
    },
    {
      "cell_type": "markdown",
      "source": [
        "# Adam"
      ],
      "metadata": {
        "id": "0HOWHjG0TyQ0"
      }
    },
    {
      "cell_type": "code",
      "source": [
        "def sgd_adam(df_w,S,v_prev,dr = 0.9,r=0.99):\n",
        "  S_new = r * S + (1-r) * ((df_w)**2)\n",
        "  v_new = dr * v_prev + (1-dr) * df_w\n",
        "  return S_new,v_new\n",
        "def train_pa(optimizer, S, v_prev, lr, dr, r, epochs, epsilon):\n",
        "  W = np.array([-5, -2], dtype=np.float32)\n",
        "  for epoch in range(1,epochs+1):\n",
        "    S,v_prev = optimizer(df_w(W),S,v_prev,dr,r)\n",
        "    v_t = v_prev/(1 - dr**epoch)\n",
        "    S_t = S/(1 - r**epoch)\n",
        "    W = W - lr * v_t/np.sqrt(S_t) + epsilon\n",
        "  return W\n",
        "print(train_pa(sgd_adam,np.array([0,0]),np.array([0,0]),0.2,0.9,0.999,2,10**(-6)))\n",
        "print(train_pa(sgd_adam,np.array([0,0]),np.array([0,0]),0.2,0.9,0.999,30,10**(-6)))"
      ],
      "metadata": {
        "colab": {
          "base_uri": "https://localhost:8080/"
        },
        "id": "UR54J_HNT13-",
        "outputId": "84520a0d-5c8a-444c-bab1-e2d7bb584a0b"
      },
      "execution_count": 31,
      "outputs": [
        {
          "output_type": "stream",
          "name": "stdout",
          "text": [
            "[-4.60025238 -1.60082246]\n",
            "[-0.11383994  0.06793695]\n"
          ]
        }
      ]
    },
    {
      "cell_type": "code",
      "source": [],
      "metadata": {
        "id": "hE2EoSGMYapI"
      },
      "execution_count": null,
      "outputs": []
    }
  ]
}