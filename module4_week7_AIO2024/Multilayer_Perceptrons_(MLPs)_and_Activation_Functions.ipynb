{
  "nbformat": 4,
  "nbformat_minor": 0,
  "metadata": {
    "colab": {
      "provenance": []
    },
    "kernelspec": {
      "name": "python3",
      "display_name": "Python 3"
    },
    "language_info": {
      "name": "python"
    }
  },
  "cells": [
    {
      "cell_type": "markdown",
      "source": [
        "# DỰ ĐOÁN HIỆU SUẤT XE HƠI"
      ],
      "metadata": {
        "id": "kIwtLqCBskIr"
      }
    },
    {
      "cell_type": "code",
      "source": [
        "!gdown --id 1qiUDDoYyRLBiKOoYWdFl_5WByHE8Cugu"
      ],
      "metadata": {
        "colab": {
          "base_uri": "https://localhost:8080/"
        },
        "id": "a9UimGpUw1aG",
        "outputId": "74dbb9aa-cbc9-4bbb-b57e-7d29252143e2"
      },
      "execution_count": 100,
      "outputs": [
        {
          "output_type": "stream",
          "name": "stdout",
          "text": [
            "/usr/local/lib/python3.10/dist-packages/gdown/__main__.py:140: FutureWarning: Option `--id` was deprecated in version 4.3.1 and will be removed in 5.0. You don't need to pass it anymore to use a file ID.\n",
            "  warnings.warn(\n",
            "Downloading...\n",
            "From: https://drive.google.com/uc?id=1qiUDDoYyRLBiKOoYWdFl_5WByHE8Cugu\n",
            "To: /content/Auto_MPG_data.csv\n",
            "100% 15.4k/15.4k [00:00<00:00, 26.8MB/s]\n"
          ]
        }
      ]
    },
    {
      "cell_type": "code",
      "source": [
        "import numpy as np\n",
        "import pandas as pd\n",
        "import matplotlib.pyplot as plt\n",
        "import torch\n",
        "import torch.nn as nn\n",
        "import torch.nn.functional as F\n",
        "from torch.utils.data import Dataset, DataLoader\n",
        "\n",
        "from sklearn.model_selection import train_test_split\n",
        "from sklearn.preprocessing import StandardScaler\n"
      ],
      "metadata": {
        "id": "nmln_grWsyoA"
      },
      "execution_count": 101,
      "outputs": []
    },
    {
      "cell_type": "code",
      "source": [
        "random_state = 59\n",
        "np.random.seed(random_state)\n",
        "torch.manual_seed(random_state)\n",
        "if torch.cuda.is_available():\n",
        "    torch.cuda.manual_seed(random_state)\n"
      ],
      "metadata": {
        "id": "A319HTYUszCI"
      },
      "execution_count": 102,
      "outputs": []
    },
    {
      "cell_type": "code",
      "source": [
        "device = torch.device('cuda' if torch.cuda.is_available() else 'cpu')\n"
      ],
      "metadata": {
        "id": "bhIwnFSYtpSA"
      },
      "execution_count": 103,
      "outputs": []
    },
    {
      "cell_type": "code",
      "source": [
        "dataset_path = '/content/Auto_MPG_data.csv'\n",
        "dataset = pd.read_csv(dataset_path)"
      ],
      "metadata": {
        "id": "4pbev01xtuFU"
      },
      "execution_count": 104,
      "outputs": []
    },
    {
      "cell_type": "code",
      "source": [
        "X = dataset.drop(columns='MPG').values\n",
        "y = dataset['MPG'].values"
      ],
      "metadata": {
        "id": "fMweqRQ2t_AR"
      },
      "execution_count": 105,
      "outputs": []
    },
    {
      "cell_type": "code",
      "source": [
        "val_size = 0.2\n",
        "test_size = 0.125\n",
        "is_shuffle = True\n",
        "\n",
        "X_train, X_val, y_train, y_val = train_test_split(\n",
        "    X, y,\n",
        "    test_size=val_size,\n",
        "    random_state=random_state,\n",
        "    shuffle=is_shuffle\n",
        ")\n",
        "\n",
        "X_train, X_test, y_train, y_test = train_test_split(\n",
        "    X_train, y_train,\n",
        "    test_size=test_size,\n",
        "    random_state=random_state,\n",
        "    shuffle=is_shuffle\n",
        ")"
      ],
      "metadata": {
        "id": "uRSH0VPiy7Ij"
      },
      "execution_count": 106,
      "outputs": []
    },
    {
      "cell_type": "code",
      "source": [
        "normalizer = StandardScaler()\n",
        "X_train = normalizer.fit_transform(X_train)\n",
        "X_val = normalizer.transform(X_val)\n",
        "X_test = normalizer.transform(X_test)\n",
        "\n",
        "X_train = torch.tensor(X_train, dtype=torch.float32)\n",
        "X_val = torch.tensor(X_val, dtype=torch.float32)\n",
        "X_test = torch.tensor(X_test, dtype=torch.float32)\n",
        "y_train = torch.tensor(y_train, dtype=torch.float32)\n",
        "y_val = torch.tensor(y_val, dtype=torch.float32)\n",
        "y_test = torch.tensor(y_test, dtype=torch.float32)\n"
      ],
      "metadata": {
        "id": "BSUWAiJcy7oi"
      },
      "execution_count": 107,
      "outputs": []
    },
    {
      "cell_type": "code",
      "source": [
        "class CustomDataset(Dataset):\n",
        "    def __init__(self, X, y):\n",
        "        self.X = X\n",
        "        self.y = y\n",
        "\n",
        "    def __len__(self):\n",
        "        return len(self.y)\n",
        "\n",
        "    def __getitem__(self, idx):\n",
        "        return self.X[idx], self.y[idx]\n"
      ],
      "metadata": {
        "id": "AfcmJQBKzbrq"
      },
      "execution_count": 108,
      "outputs": []
    },
    {
      "cell_type": "code",
      "source": [
        "\n",
        "batch_size = 32\n",
        "train_dataset = CustomDataset(X_train, y_train)\n",
        "val_dataset = CustomDataset(X_val, y_val)\n",
        "train_loader = DataLoader(train_dataset,\n",
        "                          batch_size=batch_size,\n",
        "                          shuffle=True)\n",
        "val_loader = DataLoader(val_dataset,\n",
        "                        batch_size=batch_size,\n",
        "                        shuffle=False)\n"
      ],
      "metadata": {
        "id": "gwUo3CyIzdxN"
      },
      "execution_count": 109,
      "outputs": []
    },
    {
      "cell_type": "code",
      "source": [
        "class MLP(nn.Module):\n",
        "    def __init__(self, input_dims, hidden_dims, output_dims):\n",
        "        super().__init__()\n",
        "        self.linear1 = nn.Linear(input_dims, hidden_dims)\n",
        "        self.linear2 = nn.Linear(hidden_dims, hidden_dims)\n",
        "        self.output = nn.Linear(hidden_dims, output_dims)\n",
        "\n",
        "    def forward(self, x):\n",
        "        x = self.linear1(x)\n",
        "        x = F.relu(x)\n",
        "        x = self.linear2(x)\n",
        "        x = F.relu(x)\n",
        "        out = self.output(x)\n",
        "        return out.squeeze(1)"
      ],
      "metadata": {
        "id": "Y5NlFw3X1WVx"
      },
      "execution_count": 110,
      "outputs": []
    },
    {
      "cell_type": "code",
      "source": [
        "input_dims = X_train.shape[1]\n",
        "output_dims = 1\n",
        "hidden_dims = 64\n",
        "\n",
        "model = MLP(input_dims=input_dims,\n",
        "            hidden_dims=hidden_dims,\n",
        "            output_dims=output_dims).to(device)\n"
      ],
      "metadata": {
        "id": "zFov2g9bzxCB"
      },
      "execution_count": 111,
      "outputs": []
    },
    {
      "cell_type": "code",
      "source": [
        "lr = 1e-2\n",
        "criterion = nn. MSELoss ()\n",
        "optimizer = torch . optim . SGD ( model . parameters () , lr=lr)"
      ],
      "metadata": {
        "id": "3wwoZ0wY1oq2"
      },
      "execution_count": 112,
      "outputs": []
    },
    {
      "cell_type": "code",
      "source": [
        "def r_squared(y_true, y_pred):\n",
        "    y_true = torch.Tensor(y_true).to(device)\n",
        "    y_pred = torch.Tensor(y_pred).to(device)\n",
        "    mean_true = torch.mean(y_true)\n",
        "    ss_tot = torch.sum((y_true - mean_true) ** 2)\n",
        "    ss_res = torch.sum((y_true - y_pred) ** 2)\n",
        "    r2 = 1 - (ss_res / ss_tot)\n",
        "    return r2"
      ],
      "metadata": {
        "id": "QEz-2lYJ17T_"
      },
      "execution_count": 113,
      "outputs": []
    },
    {
      "cell_type": "code",
      "source": [
        "epochs = 100\n",
        "train_losses = []\n",
        "val_losses = []\n",
        "train_r2 = []\n",
        "val_r2 = []\n",
        "for epoch in range(epochs):\n",
        "    train_loss = 0.0\n",
        "    train_target = []\n",
        "    train_predict = []\n",
        "    val_target = []\n",
        "    val_predict = []\n",
        "    model.train()\n",
        "    for X_samples, y_samples in train_loader:\n",
        "        X_samples = X_samples.to(device)\n",
        "        y_samples = y_samples.to(device)\n",
        "        optimizer.zero_grad()\n",
        "        outputs = model(X_samples)\n",
        "        train_predict += outputs.tolist()\n",
        "        train_target += y_samples.tolist()\n",
        "        loss = criterion(outputs, y_samples)\n",
        "        loss.backward()\n",
        "        optimizer.step()\n",
        "        train_loss += loss.item()\n",
        "    train_loss /= len(train_loader)\n",
        "    train_losses.append(train_loss)\n",
        "    train_r2.append(r_squared(train_target, train_predict))\n",
        "    model.eval()\n",
        "    val_loss = 0.0\n",
        "    with torch.no_grad():\n",
        "        for X_samples, y_samples in val_loader:\n",
        "            X_samples = X_samples.to(device)\n",
        "            y_samples = y_samples.to(device)\n",
        "            outputs = model(X_samples)\n",
        "            val_predict += outputs.tolist()\n",
        "            val_target += y_samples.tolist()\n",
        "            loss = criterion(outputs, y_samples)\n",
        "            val_loss += loss.item()\n",
        "    val_loss /= len(val_loader)\n",
        "    val_losses.append(val_loss)\n",
        "    val_r2.append(r_squared(val_target, val_predict))\n",
        "    print(f'\\nEPOCH {epoch + 1}:\\tTraining loss: {train_loss:.3f}\\tValidation loss: {val_loss:.3f}')\n"
      ],
      "metadata": {
        "colab": {
          "base_uri": "https://localhost:8080/"
        },
        "id": "iQH6gWZZ2C6W",
        "outputId": "2d95ebe7-6012-4be6-9675-1bee47166527"
      },
      "execution_count": 114,
      "outputs": [
        {
          "output_type": "stream",
          "name": "stdout",
          "text": [
            "\n",
            "EPOCH 1:\tTraining loss: 282.769\tValidation loss: 88.672\n",
            "\n",
            "EPOCH 2:\tTraining loss: 137.669\tValidation loss: 72.346\n",
            "\n",
            "EPOCH 3:\tTraining loss: 71.007\tValidation loss: 19.143\n",
            "\n",
            "EPOCH 4:\tTraining loss: 25.083\tValidation loss: 196.176\n",
            "\n",
            "EPOCH 5:\tTraining loss: 96.139\tValidation loss: 20.444\n",
            "\n",
            "EPOCH 6:\tTraining loss: 17.765\tValidation loss: 9.444\n",
            "\n",
            "EPOCH 7:\tTraining loss: 18.486\tValidation loss: 14.535\n",
            "\n",
            "EPOCH 8:\tTraining loss: 37.859\tValidation loss: 37.427\n",
            "\n",
            "EPOCH 9:\tTraining loss: 17.133\tValidation loss: 38.134\n",
            "\n",
            "EPOCH 10:\tTraining loss: 22.991\tValidation loss: 41.183\n",
            "\n",
            "EPOCH 11:\tTraining loss: 26.723\tValidation loss: 20.063\n",
            "\n",
            "EPOCH 12:\tTraining loss: 9.852\tValidation loss: 5.594\n",
            "\n",
            "EPOCH 13:\tTraining loss: 15.143\tValidation loss: 16.025\n",
            "\n",
            "EPOCH 14:\tTraining loss: 12.213\tValidation loss: 12.023\n",
            "\n",
            "EPOCH 15:\tTraining loss: 14.222\tValidation loss: 7.731\n",
            "\n",
            "EPOCH 16:\tTraining loss: 10.845\tValidation loss: 18.904\n",
            "\n",
            "EPOCH 17:\tTraining loss: 12.312\tValidation loss: 14.885\n",
            "\n",
            "EPOCH 18:\tTraining loss: 15.474\tValidation loss: 12.354\n",
            "\n",
            "EPOCH 19:\tTraining loss: 13.783\tValidation loss: 5.380\n",
            "\n",
            "EPOCH 20:\tTraining loss: 7.285\tValidation loss: 5.100\n",
            "\n",
            "EPOCH 21:\tTraining loss: 8.168\tValidation loss: 4.832\n",
            "\n",
            "EPOCH 22:\tTraining loss: 6.277\tValidation loss: 5.236\n",
            "\n",
            "EPOCH 23:\tTraining loss: 10.050\tValidation loss: 50.349\n",
            "\n",
            "EPOCH 24:\tTraining loss: 10.607\tValidation loss: 15.387\n",
            "\n",
            "EPOCH 25:\tTraining loss: 9.235\tValidation loss: 8.590\n",
            "\n",
            "EPOCH 26:\tTraining loss: 9.764\tValidation loss: 6.845\n",
            "\n",
            "EPOCH 27:\tTraining loss: 6.272\tValidation loss: 6.215\n",
            "\n",
            "EPOCH 28:\tTraining loss: 10.287\tValidation loss: 5.041\n",
            "\n",
            "EPOCH 29:\tTraining loss: 6.383\tValidation loss: 11.531\n",
            "\n",
            "EPOCH 30:\tTraining loss: 17.039\tValidation loss: 4.781\n",
            "\n",
            "EPOCH 31:\tTraining loss: 7.879\tValidation loss: 5.786\n",
            "\n",
            "EPOCH 32:\tTraining loss: 6.630\tValidation loss: 6.206\n",
            "\n",
            "EPOCH 33:\tTraining loss: 7.156\tValidation loss: 4.626\n",
            "\n",
            "EPOCH 34:\tTraining loss: 6.758\tValidation loss: 6.483\n",
            "\n",
            "EPOCH 35:\tTraining loss: 7.450\tValidation loss: 6.463\n",
            "\n",
            "EPOCH 36:\tTraining loss: 5.831\tValidation loss: 5.967\n",
            "\n",
            "EPOCH 37:\tTraining loss: 5.947\tValidation loss: 6.008\n",
            "\n",
            "EPOCH 38:\tTraining loss: 7.273\tValidation loss: 10.705\n",
            "\n",
            "EPOCH 39:\tTraining loss: 7.611\tValidation loss: 14.612\n",
            "\n",
            "EPOCH 40:\tTraining loss: 7.478\tValidation loss: 5.625\n",
            "\n",
            "EPOCH 41:\tTraining loss: 5.840\tValidation loss: 20.782\n",
            "\n",
            "EPOCH 42:\tTraining loss: 8.010\tValidation loss: 5.530\n",
            "\n",
            "EPOCH 43:\tTraining loss: 7.096\tValidation loss: 28.658\n",
            "\n",
            "EPOCH 44:\tTraining loss: 10.015\tValidation loss: 10.240\n",
            "\n",
            "EPOCH 45:\tTraining loss: 6.435\tValidation loss: 4.911\n",
            "\n",
            "EPOCH 46:\tTraining loss: 8.238\tValidation loss: 7.057\n",
            "\n",
            "EPOCH 47:\tTraining loss: 6.315\tValidation loss: 6.785\n",
            "\n",
            "EPOCH 48:\tTraining loss: 5.323\tValidation loss: 6.720\n",
            "\n",
            "EPOCH 49:\tTraining loss: 6.652\tValidation loss: 9.927\n",
            "\n",
            "EPOCH 50:\tTraining loss: 6.583\tValidation loss: 12.207\n",
            "\n",
            "EPOCH 51:\tTraining loss: 8.147\tValidation loss: 7.704\n",
            "\n",
            "EPOCH 52:\tTraining loss: 10.966\tValidation loss: 5.014\n",
            "\n",
            "EPOCH 53:\tTraining loss: 7.193\tValidation loss: 4.809\n",
            "\n",
            "EPOCH 54:\tTraining loss: 6.586\tValidation loss: 5.283\n",
            "\n",
            "EPOCH 55:\tTraining loss: 5.428\tValidation loss: 5.254\n",
            "\n",
            "EPOCH 56:\tTraining loss: 5.410\tValidation loss: 6.241\n",
            "\n",
            "EPOCH 57:\tTraining loss: 7.397\tValidation loss: 7.304\n",
            "\n",
            "EPOCH 58:\tTraining loss: 6.877\tValidation loss: 19.924\n",
            "\n",
            "EPOCH 59:\tTraining loss: 7.607\tValidation loss: 6.910\n",
            "\n",
            "EPOCH 60:\tTraining loss: 5.577\tValidation loss: 4.655\n",
            "\n",
            "EPOCH 61:\tTraining loss: 5.597\tValidation loss: 9.228\n",
            "\n",
            "EPOCH 62:\tTraining loss: 11.281\tValidation loss: 4.500\n",
            "\n",
            "EPOCH 63:\tTraining loss: 6.602\tValidation loss: 13.699\n",
            "\n",
            "EPOCH 64:\tTraining loss: 6.271\tValidation loss: 6.322\n",
            "\n",
            "EPOCH 65:\tTraining loss: 8.267\tValidation loss: 5.209\n",
            "\n",
            "EPOCH 66:\tTraining loss: 5.305\tValidation loss: 5.244\n",
            "\n",
            "EPOCH 67:\tTraining loss: 5.974\tValidation loss: 6.119\n",
            "\n",
            "EPOCH 68:\tTraining loss: 10.930\tValidation loss: 7.538\n",
            "\n",
            "EPOCH 69:\tTraining loss: 7.000\tValidation loss: 9.098\n",
            "\n",
            "EPOCH 70:\tTraining loss: 6.188\tValidation loss: 5.058\n",
            "\n",
            "EPOCH 71:\tTraining loss: 5.184\tValidation loss: 4.528\n",
            "\n",
            "EPOCH 72:\tTraining loss: 5.927\tValidation loss: 9.171\n",
            "\n",
            "EPOCH 73:\tTraining loss: 6.805\tValidation loss: 9.461\n",
            "\n",
            "EPOCH 74:\tTraining loss: 6.086\tValidation loss: 5.240\n",
            "\n",
            "EPOCH 75:\tTraining loss: 5.313\tValidation loss: 16.254\n",
            "\n",
            "EPOCH 76:\tTraining loss: 7.395\tValidation loss: 18.961\n",
            "\n",
            "EPOCH 77:\tTraining loss: 10.982\tValidation loss: 7.603\n",
            "\n",
            "EPOCH 78:\tTraining loss: 6.881\tValidation loss: 5.415\n",
            "\n",
            "EPOCH 79:\tTraining loss: 5.829\tValidation loss: 10.532\n",
            "\n",
            "EPOCH 80:\tTraining loss: 8.031\tValidation loss: 5.808\n",
            "\n",
            "EPOCH 81:\tTraining loss: 10.559\tValidation loss: 5.661\n",
            "\n",
            "EPOCH 82:\tTraining loss: 5.536\tValidation loss: 5.436\n",
            "\n",
            "EPOCH 83:\tTraining loss: 5.733\tValidation loss: 8.689\n",
            "\n",
            "EPOCH 84:\tTraining loss: 5.447\tValidation loss: 5.063\n",
            "\n",
            "EPOCH 85:\tTraining loss: 4.924\tValidation loss: 6.608\n",
            "\n",
            "EPOCH 86:\tTraining loss: 4.733\tValidation loss: 6.193\n",
            "\n",
            "EPOCH 87:\tTraining loss: 5.094\tValidation loss: 7.785\n",
            "\n",
            "EPOCH 88:\tTraining loss: 5.322\tValidation loss: 4.985\n",
            "\n",
            "EPOCH 89:\tTraining loss: 4.837\tValidation loss: 5.246\n",
            "\n",
            "EPOCH 90:\tTraining loss: 6.566\tValidation loss: 5.694\n",
            "\n",
            "EPOCH 91:\tTraining loss: 5.474\tValidation loss: 8.742\n",
            "\n",
            "EPOCH 92:\tTraining loss: 7.184\tValidation loss: 5.376\n",
            "\n",
            "EPOCH 93:\tTraining loss: 6.221\tValidation loss: 5.282\n",
            "\n",
            "EPOCH 94:\tTraining loss: 9.373\tValidation loss: 7.654\n",
            "\n",
            "EPOCH 95:\tTraining loss: 6.485\tValidation loss: 5.797\n",
            "\n",
            "EPOCH 96:\tTraining loss: 8.487\tValidation loss: 22.967\n",
            "\n",
            "EPOCH 97:\tTraining loss: 7.113\tValidation loss: 11.046\n",
            "\n",
            "EPOCH 98:\tTraining loss: 7.269\tValidation loss: 7.265\n",
            "\n",
            "EPOCH 99:\tTraining loss: 5.988\tValidation loss: 5.091\n",
            "\n",
            "EPOCH 100:\tTraining loss: 6.082\tValidation loss: 4.776\n"
          ]
        }
      ]
    },
    {
      "cell_type": "code",
      "source": [
        "model.eval()\n",
        "with torch.no_grad():\n",
        "    y_hat = model(X_test)\n",
        "    test_set_r2 = r_squared(y_hat, y_test)\n",
        "    print('Evaluation on test set:')\n",
        "    print(f'R2: {test_set_r2}')\n"
      ],
      "metadata": {
        "colab": {
          "base_uri": "https://localhost:8080/"
        },
        "id": "rWdyg0Fk2XXX",
        "outputId": "38829f3c-5b41-4e37-d980-02cd34193a65"
      },
      "execution_count": 115,
      "outputs": [
        {
          "output_type": "stream",
          "name": "stdout",
          "text": [
            "Evaluation on test set:\n",
            "R2: 0.8417800068855286\n"
          ]
        }
      ]
    },
    {
      "cell_type": "markdown",
      "source": [
        "# Phân loại với dữ liệu phi tuyến"
      ],
      "metadata": {
        "id": "QRRt1YzT2iOE"
      }
    },
    {
      "cell_type": "code",
      "source": [
        "! gdown --id 1SqSn_8rxkk-Qvu4JLMcN_3ZFGDNa6P_V"
      ],
      "metadata": {
        "colab": {
          "base_uri": "https://localhost:8080/"
        },
        "id": "zjp7QYqY2oYN",
        "outputId": "8ccdafaf-e880-45e6-94bf-da9e98f9d801"
      },
      "execution_count": 116,
      "outputs": [
        {
          "output_type": "stream",
          "name": "stdout",
          "text": [
            "/usr/local/lib/python3.10/dist-packages/gdown/__main__.py:140: FutureWarning: Option `--id` was deprecated in version 4.3.1 and will be removed in 5.0. You don't need to pass it anymore to use a file ID.\n",
            "  warnings.warn(\n",
            "Downloading...\n",
            "From: https://drive.google.com/uc?id=1SqSn_8rxkk-Qvu4JLMcN_3ZFGDNa6P_V\n",
            "To: /content/NonLinear_data.npy\n",
            "100% 5.57k/5.57k [00:00<00:00, 15.2MB/s]\n"
          ]
        }
      ]
    },
    {
      "cell_type": "code",
      "source": [
        "# Import các thư viện cần thiết\n",
        "import numpy as np\n",
        "import pandas as pd\n",
        "import matplotlib.pyplot as plt\n",
        "import torch\n",
        "import torch.nn as nn\n",
        "import torch.nn.functional as F\n",
        "from torch.utils.data import Dataset, DataLoader\n",
        "\n",
        "from sklearn.model_selection import train_test_split\n",
        "from sklearn.preprocessing import StandardScaler\n",
        "\n",
        "# Cài đặt giá trị ngẫu nhiên cố định và thiết bị tính toán\n",
        "device = torch.device('cuda:0' if torch.cuda.is_available() else 'cpu')\n",
        "\n",
        "random_state = 59\n",
        "np.random.seed(random_state)\n",
        "torch.manual_seed(random_state)\n",
        "if torch.cuda.is_available():\n",
        "    torch.cuda.manual_seed(random_state)\n"
      ],
      "metadata": {
        "id": "owCLRzsB2ysi"
      },
      "execution_count": 117,
      "outputs": []
    },
    {
      "cell_type": "code",
      "source": [
        "# Cài đặt giá trị ngẫu nhiên cố định và thiết bị tính toán\n",
        "device = torch.device('cuda:0' if torch.cuda.is_available() else 'cpu')\n",
        "\n",
        "random_state = 59\n",
        "np.random.seed(random_state)\n",
        "torch.manual_seed(random_state)\n",
        "if torch.cuda.is_available():\n",
        "    torch.cuda.manual_seed(random_state)\n",
        "\n",
        "# Đọc bộ dữ liệu\n",
        "data_path = '/content/NonLinear_data.npy'\n",
        "data = np.load(data_path, allow_pickle=True).item()\n",
        "X, y = data['X'], data['labels']\n",
        "\n",
        "print(X.shape, y.shape)\n"
      ],
      "metadata": {
        "colab": {
          "base_uri": "https://localhost:8080/"
        },
        "id": "YF0DcADA3Psi",
        "outputId": "a17b4e33-d29f-4dce-88f9-3dfc2adc2320"
      },
      "execution_count": 118,
      "outputs": [
        {
          "output_type": "stream",
          "name": "stdout",
          "text": [
            "(300, 2) (300,)\n"
          ]
        }
      ]
    },
    {
      "cell_type": "code",
      "source": [
        "val_size = 0.2\n",
        "test_size = 0.125\n",
        "is_shuffle = True\n",
        "\n",
        "X_train, X_val, y_train, y_val = train_test_split(\n",
        "    X, y,\n",
        "    test_size=val_size,\n",
        "    random_state=random_state,\n",
        "    shuffle=is_shuffle\n",
        ")\n",
        "\n",
        "X_train, X_test, y_train, y_test = train_test_split(\n",
        "    X_train, y_train,\n",
        "    test_size=test_size,\n",
        "    random_state=random_state,\n",
        "    shuffle=is_shuffle\n",
        ")\n",
        "\n",
        "# Chuẩn hóa đặc trưng đầu vào\n",
        "normalizer = StandardScaler()\n",
        "X_train = normalizer.fit_transform(X_train)\n",
        "X_val = normalizer.transform(X_val)\n",
        "X_test = normalizer.transform(X_test)\n",
        "\n",
        "X_train = torch.tensor(X_train, dtype=torch.float32)\n",
        "X_val = torch.tensor(X_val, dtype=torch.float32)\n",
        "X_test = torch.tensor(X_test, dtype=torch.float32)\n",
        "y_train = torch.tensor(y_train, dtype=torch.long)\n",
        "y_val = torch.tensor(y_val, dtype=torch.long)\n",
        "y_test = torch.tensor(y_test, dtype=torch.long)\n"
      ],
      "metadata": {
        "id": "Ba0KHIQL3hVe"
      },
      "execution_count": 119,
      "outputs": []
    },
    {
      "cell_type": "code",
      "source": [
        "class CustomDataset(Dataset):\n",
        "    def __init__(self, X, y):\n",
        "        self.X = X\n",
        "        self.y = y\n",
        "\n",
        "    def __len__(self):\n",
        "        return len(self.y)\n",
        "\n",
        "    def __getitem__(self, idx):\n",
        "        return self.X[idx], self.y[idx]\n",
        "\n",
        "batch_size = 32\n",
        "train_dataset = CustomDataset(X_train, y_train)\n",
        "val_dataset = CustomDataset(X_val, y_val)\n",
        "test_dataset = CustomDataset(X_test, y_test)\n",
        "\n",
        "train_loader = DataLoader(train_dataset,\n",
        "                          batch_size=batch_size,\n",
        "                          shuffle=True)\n",
        "val_loader = DataLoader(val_dataset,\n",
        "                        batch_size=batch_size,\n",
        "                        shuffle=False)\n",
        "test_loader = DataLoader(test_dataset,\n",
        "                         batch_size=batch_size,\n",
        "                         shuffle=False)\n"
      ],
      "metadata": {
        "id": "Nlx_Foo63rDz"
      },
      "execution_count": 120,
      "outputs": []
    },
    {
      "cell_type": "code",
      "source": [
        "class MLP(nn.Module):\n",
        "    def __init__(self, input_dims, hidden_dims, output_dims):\n",
        "        super(MLP, self).__init__()\n",
        "        self.linear1 = nn.Linear(input_dims, hidden_dims)\n",
        "        self.output = nn.Linear(hidden_dims, output_dims)\n",
        "        self.relu = nn.ReLU()\n",
        "\n",
        "    def forward(self, x):\n",
        "        x = self.linear1(x)\n",
        "        x = self.relu(x)\n",
        "        out = self.output(x)\n",
        "        return out.squeeze(1)\n",
        "\n",
        "input_dims = X_train.shape[1]\n",
        "output_dims = torch.unique(y_train).shape[0]\n",
        "hidden_dims = 128\n",
        "\n",
        "model = MLP(input_dims=input_dims,\n",
        "            hidden_dims=hidden_dims,\n",
        "            output_dims=output_dims).to(device)\n"
      ],
      "metadata": {
        "id": "XNIE6YW64K8u"
      },
      "execution_count": 121,
      "outputs": []
    },
    {
      "cell_type": "code",
      "source": [
        "lr = 1e-1\n",
        "criterion = nn.CrossEntropyLoss()\n",
        "optimizer = torch.optim.SGD(model.parameters(), lr=lr)\n",
        "\n",
        "def compute_accuracy(y_hat, y_true):\n",
        "    _, y_hat = torch.max(y_hat, dim=1)\n",
        "    correct = (y_hat == y_true).sum().item()\n",
        "    accuracy = correct / len(y_true)\n",
        "    return accuracy\n"
      ],
      "metadata": {
        "id": "ybMYUv6U4iUd"
      },
      "execution_count": 122,
      "outputs": []
    },
    {
      "cell_type": "code",
      "source": [
        "epochs = 100\n",
        "train_losses = []\n",
        "val_losses = []\n",
        "train_accs = []\n",
        "val_accs = []\n",
        "\n",
        "for epoch in range(epochs):\n",
        "    train_loss = 0.0\n",
        "    train_target = []\n",
        "    train_predict = []\n",
        "    model.train()\n",
        "    for X_samples, y_samples in train_loader:\n",
        "        X_samples = X_samples.to(device)\n",
        "        y_samples = y_samples.to(device)\n",
        "        optimizer.zero_grad()\n",
        "        outputs = model(X_samples)\n",
        "        loss = criterion(outputs, y_samples)\n",
        "        loss.backward()\n",
        "        optimizer.step()\n",
        "        train_loss += loss.item()\n",
        "\n",
        "        train_predict.append(outputs.detach().cpu())\n",
        "        train_target.append(y_samples.cpu())\n",
        "\n",
        "    train_loss /= len(train_loader)\n",
        "    train_losses.append(train_loss)\n",
        "\n",
        "    train_predict = torch.cat(train_predict)\n",
        "    train_target = torch.cat(train_target)\n",
        "    train_acc = compute_accuracy(train_predict, train_target)\n",
        "    train_accs.append(train_acc)\n",
        "\n",
        "    val_loss = 0.0\n",
        "    val_target = []\n",
        "    val_predict = []\n",
        "    model.eval()\n",
        "    with torch.no_grad():\n",
        "        for X_samples, y_samples in val_loader:\n",
        "            X_samples = X_samples.to(device)\n",
        "            y_samples = y_samples.to(device)\n",
        "            outputs = model(X_samples)\n",
        "            val_loss += criterion(outputs, y_samples).item()\n",
        "\n",
        "            val_predict.append(outputs.cpu())\n",
        "            val_target.append(y_samples.cpu())\n",
        "\n",
        "        val_loss /= len(val_loader)\n",
        "        val_losses.append(val_loss)\n",
        "\n",
        "        val_predict = torch.cat(val_predict)\n",
        "        val_target = torch.cat(val_target)\n",
        "        val_acc = compute_accuracy(val_predict, val_target)\n",
        "        val_accs.append(val_acc)\n",
        "\n",
        "    print(f'\\nEPOCH {epoch + 1}:\\tTraining loss: {train_loss:.3f}\\tValidation loss: {val_loss:.3f}')\n"
      ],
      "metadata": {
        "colab": {
          "base_uri": "https://localhost:8080/"
        },
        "id": "hf7q99u14w-Z",
        "outputId": "14e78d91-b45e-42c2-e28f-af8f445a73ff"
      },
      "execution_count": 123,
      "outputs": [
        {
          "output_type": "stream",
          "name": "stdout",
          "text": [
            "\n",
            "EPOCH 1:\tTraining loss: 0.939\tValidation loss: 0.864\n",
            "\n",
            "EPOCH 2:\tTraining loss: 0.750\tValidation loss: 0.815\n",
            "\n",
            "EPOCH 3:\tTraining loss: 0.715\tValidation loss: 0.799\n",
            "\n",
            "EPOCH 4:\tTraining loss: 0.689\tValidation loss: 0.791\n",
            "\n",
            "EPOCH 5:\tTraining loss: 0.670\tValidation loss: 0.780\n",
            "\n",
            "EPOCH 6:\tTraining loss: 0.654\tValidation loss: 0.747\n",
            "\n",
            "EPOCH 7:\tTraining loss: 0.646\tValidation loss: 0.724\n",
            "\n",
            "EPOCH 8:\tTraining loss: 0.616\tValidation loss: 0.704\n",
            "\n",
            "EPOCH 9:\tTraining loss: 0.616\tValidation loss: 0.694\n",
            "\n",
            "EPOCH 10:\tTraining loss: 0.610\tValidation loss: 0.666\n",
            "\n",
            "EPOCH 11:\tTraining loss: 0.577\tValidation loss: 0.666\n",
            "\n",
            "EPOCH 12:\tTraining loss: 0.596\tValidation loss: 0.642\n",
            "\n",
            "EPOCH 13:\tTraining loss: 0.556\tValidation loss: 0.625\n",
            "\n",
            "EPOCH 14:\tTraining loss: 0.537\tValidation loss: 0.608\n",
            "\n",
            "EPOCH 15:\tTraining loss: 0.521\tValidation loss: 0.604\n",
            "\n",
            "EPOCH 16:\tTraining loss: 0.530\tValidation loss: 0.587\n",
            "\n",
            "EPOCH 17:\tTraining loss: 0.511\tValidation loss: 0.566\n",
            "\n",
            "EPOCH 18:\tTraining loss: 0.498\tValidation loss: 0.569\n",
            "\n",
            "EPOCH 19:\tTraining loss: 0.493\tValidation loss: 0.540\n",
            "\n",
            "EPOCH 20:\tTraining loss: 0.480\tValidation loss: 0.542\n",
            "\n",
            "EPOCH 21:\tTraining loss: 0.482\tValidation loss: 0.520\n",
            "\n",
            "EPOCH 22:\tTraining loss: 0.462\tValidation loss: 0.501\n",
            "\n",
            "EPOCH 23:\tTraining loss: 0.443\tValidation loss: 0.488\n",
            "\n",
            "EPOCH 24:\tTraining loss: 0.441\tValidation loss: 0.475\n",
            "\n",
            "EPOCH 25:\tTraining loss: 0.420\tValidation loss: 0.473\n",
            "\n",
            "EPOCH 26:\tTraining loss: 0.420\tValidation loss: 0.459\n",
            "\n",
            "EPOCH 27:\tTraining loss: 0.424\tValidation loss: 0.449\n",
            "\n",
            "EPOCH 28:\tTraining loss: 0.399\tValidation loss: 0.437\n",
            "\n",
            "EPOCH 29:\tTraining loss: 0.387\tValidation loss: 0.429\n",
            "\n",
            "EPOCH 30:\tTraining loss: 0.386\tValidation loss: 0.419\n",
            "\n",
            "EPOCH 31:\tTraining loss: 0.380\tValidation loss: 0.411\n",
            "\n",
            "EPOCH 32:\tTraining loss: 0.369\tValidation loss: 0.403\n",
            "\n",
            "EPOCH 33:\tTraining loss: 0.359\tValidation loss: 0.397\n",
            "\n",
            "EPOCH 34:\tTraining loss: 0.351\tValidation loss: 0.389\n",
            "\n",
            "EPOCH 35:\tTraining loss: 0.354\tValidation loss: 0.382\n",
            "\n",
            "EPOCH 36:\tTraining loss: 0.344\tValidation loss: 0.374\n",
            "\n",
            "EPOCH 37:\tTraining loss: 0.335\tValidation loss: 0.374\n",
            "\n",
            "EPOCH 38:\tTraining loss: 0.336\tValidation loss: 0.365\n",
            "\n",
            "EPOCH 39:\tTraining loss: 0.336\tValidation loss: 0.354\n",
            "\n",
            "EPOCH 40:\tTraining loss: 0.317\tValidation loss: 0.346\n",
            "\n",
            "EPOCH 41:\tTraining loss: 0.314\tValidation loss: 0.340\n",
            "\n",
            "EPOCH 42:\tTraining loss: 0.307\tValidation loss: 0.341\n",
            "\n",
            "EPOCH 43:\tTraining loss: 0.309\tValidation loss: 0.336\n",
            "\n",
            "EPOCH 44:\tTraining loss: 0.290\tValidation loss: 0.327\n",
            "\n",
            "EPOCH 45:\tTraining loss: 0.288\tValidation loss: 0.327\n",
            "\n",
            "EPOCH 46:\tTraining loss: 0.286\tValidation loss: 0.318\n",
            "\n",
            "EPOCH 47:\tTraining loss: 0.290\tValidation loss: 0.310\n",
            "\n",
            "EPOCH 48:\tTraining loss: 0.285\tValidation loss: 0.305\n",
            "\n",
            "EPOCH 49:\tTraining loss: 0.268\tValidation loss: 0.302\n",
            "\n",
            "EPOCH 50:\tTraining loss: 0.274\tValidation loss: 0.299\n",
            "\n",
            "EPOCH 51:\tTraining loss: 0.270\tValidation loss: 0.293\n",
            "\n",
            "EPOCH 52:\tTraining loss: 0.267\tValidation loss: 0.288\n",
            "\n",
            "EPOCH 53:\tTraining loss: 0.255\tValidation loss: 0.290\n",
            "\n",
            "EPOCH 54:\tTraining loss: 0.262\tValidation loss: 0.284\n",
            "\n",
            "EPOCH 55:\tTraining loss: 0.245\tValidation loss: 0.284\n",
            "\n",
            "EPOCH 56:\tTraining loss: 0.247\tValidation loss: 0.277\n",
            "\n",
            "EPOCH 57:\tTraining loss: 0.248\tValidation loss: 0.271\n",
            "\n",
            "EPOCH 58:\tTraining loss: 0.240\tValidation loss: 0.269\n",
            "\n",
            "EPOCH 59:\tTraining loss: 0.240\tValidation loss: 0.263\n",
            "\n",
            "EPOCH 60:\tTraining loss: 0.241\tValidation loss: 0.261\n",
            "\n",
            "EPOCH 61:\tTraining loss: 0.237\tValidation loss: 0.270\n",
            "\n",
            "EPOCH 62:\tTraining loss: 0.230\tValidation loss: 0.262\n",
            "\n",
            "EPOCH 63:\tTraining loss: 0.233\tValidation loss: 0.260\n",
            "\n",
            "EPOCH 64:\tTraining loss: 0.226\tValidation loss: 0.253\n",
            "\n",
            "EPOCH 65:\tTraining loss: 0.231\tValidation loss: 0.250\n",
            "\n",
            "EPOCH 66:\tTraining loss: 0.222\tValidation loss: 0.246\n",
            "\n",
            "EPOCH 67:\tTraining loss: 0.220\tValidation loss: 0.246\n",
            "\n",
            "EPOCH 68:\tTraining loss: 0.216\tValidation loss: 0.243\n",
            "\n",
            "EPOCH 69:\tTraining loss: 0.215\tValidation loss: 0.239\n",
            "\n",
            "EPOCH 70:\tTraining loss: 0.213\tValidation loss: 0.243\n",
            "\n",
            "EPOCH 71:\tTraining loss: 0.210\tValidation loss: 0.239\n",
            "\n",
            "EPOCH 72:\tTraining loss: 0.203\tValidation loss: 0.239\n",
            "\n",
            "EPOCH 73:\tTraining loss: 0.203\tValidation loss: 0.236\n",
            "\n",
            "EPOCH 74:\tTraining loss: 0.210\tValidation loss: 0.237\n",
            "\n",
            "EPOCH 75:\tTraining loss: 0.204\tValidation loss: 0.232\n",
            "\n",
            "EPOCH 76:\tTraining loss: 0.200\tValidation loss: 0.227\n",
            "\n",
            "EPOCH 77:\tTraining loss: 0.200\tValidation loss: 0.226\n",
            "\n",
            "EPOCH 78:\tTraining loss: 0.195\tValidation loss: 0.227\n",
            "\n",
            "EPOCH 79:\tTraining loss: 0.186\tValidation loss: 0.222\n",
            "\n",
            "EPOCH 80:\tTraining loss: 0.186\tValidation loss: 0.220\n",
            "\n",
            "EPOCH 81:\tTraining loss: 0.194\tValidation loss: 0.214\n",
            "\n",
            "EPOCH 82:\tTraining loss: 0.189\tValidation loss: 0.214\n",
            "\n",
            "EPOCH 83:\tTraining loss: 0.183\tValidation loss: 0.212\n",
            "\n",
            "EPOCH 84:\tTraining loss: 0.188\tValidation loss: 0.212\n",
            "\n",
            "EPOCH 85:\tTraining loss: 0.181\tValidation loss: 0.210\n",
            "\n",
            "EPOCH 86:\tTraining loss: 0.180\tValidation loss: 0.211\n",
            "\n",
            "EPOCH 87:\tTraining loss: 0.178\tValidation loss: 0.216\n",
            "\n",
            "EPOCH 88:\tTraining loss: 0.181\tValidation loss: 0.206\n",
            "\n",
            "EPOCH 89:\tTraining loss: 0.178\tValidation loss: 0.202\n",
            "\n",
            "EPOCH 90:\tTraining loss: 0.171\tValidation loss: 0.201\n",
            "\n",
            "EPOCH 91:\tTraining loss: 0.180\tValidation loss: 0.213\n",
            "\n",
            "EPOCH 92:\tTraining loss: 0.172\tValidation loss: 0.201\n",
            "\n",
            "EPOCH 93:\tTraining loss: 0.166\tValidation loss: 0.195\n",
            "\n",
            "EPOCH 94:\tTraining loss: 0.173\tValidation loss: 0.196\n",
            "\n",
            "EPOCH 95:\tTraining loss: 0.169\tValidation loss: 0.194\n",
            "\n",
            "EPOCH 96:\tTraining loss: 0.165\tValidation loss: 0.193\n",
            "\n",
            "EPOCH 97:\tTraining loss: 0.163\tValidation loss: 0.192\n",
            "\n",
            "EPOCH 98:\tTraining loss: 0.161\tValidation loss: 0.193\n",
            "\n",
            "EPOCH 99:\tTraining loss: 0.162\tValidation loss: 0.188\n",
            "\n",
            "EPOCH 100:\tTraining loss: 0.162\tValidation loss: 0.190\n"
          ]
        }
      ]
    },
    {
      "cell_type": "code",
      "source": [
        "fig, ax = plt.subplots(2, 2, figsize=(12, 10))\n",
        "ax[0, 0].plot(train_losses, color='green')\n",
        "ax[0, 0].set(xlabel='Epoch', ylabel='Loss')\n",
        "ax[0, 0].set_title('Training Loss')\n",
        "\n",
        "ax[0, 1].plot(val_losses, color='orange')\n",
        "ax[0, 1].set(xlabel='Epoch', ylabel='Loss')\n",
        "ax[0, 1].set_title('Validation Loss')\n",
        "\n",
        "ax[1, 0].plot(train_accs, color='green')\n",
        "ax[1, 0].set(xlabel='Epoch', ylabel='Accuracy')\n",
        "ax[1, 0].set_title('Training Accuracy')\n",
        "\n",
        "ax[1, 1].plot(val_accs, color='orange')\n",
        "ax[1, 1].set(xlabel='Epoch', ylabel='Accuracy')\n",
        "ax[1, 1].set_title('Validation Accuracy')\n",
        "\n",
        "plt.show()\n"
      ],
      "metadata": {
        "colab": {
          "base_uri": "https://localhost:8080/",
          "height": 872
        },
        "id": "q5VE3f5p5dSa",
        "outputId": "f6ce8121-5a46-45bc-a499-5092825ea880"
      },
      "execution_count": 124,
      "outputs": [
        {
          "output_type": "display_data",
          "data": {
            "text/plain": [
              "<Figure size 1200x1000 with 4 Axes>"
            ],
            "image/png": "[encoded data removed]"
          },
          "metadata": {}
        }
      ]
    },
    {
      "cell_type": "code",
      "source": [
        "test_target = []\n",
        "test_predict = []\n",
        "model.eval()\n",
        "\n",
        "with torch.no_grad():\n",
        "    for X_samples, y_samples in test_loader:\n",
        "        X_samples = X_samples.to(device)\n",
        "        y_samples = y_samples.to(device)\n",
        "        outputs = model(X_samples)\n",
        "\n",
        "        test_predict.append(outputs.cpu())\n",
        "        test_target.append(y_samples.cpu())\n",
        "\n",
        "    test_predict = torch.cat(test_predict)\n",
        "    test_target = torch.cat(test_target)\n",
        "    test_acc = compute_accuracy(test_predict, test_target)\n",
        "\n",
        "    print('Evaluation on test set:')\n",
        "    print(f'Accuracy: {test_acc}')\n"
      ],
      "metadata": {
        "colab": {
          "base_uri": "https://localhost:8080/"
        },
        "id": "YPwYyoh95qOC",
        "outputId": "90b35dec-fde2-4c1a-8b68-0f389ec899e6"
      },
      "execution_count": 125,
      "outputs": [
        {
          "output_type": "stream",
          "name": "stdout",
          "text": [
            "Evaluation on test set:\n",
            "Accuracy: 0.9333333333333333\n"
          ]
        }
      ]
    },
    {
      "cell_type": "markdown",
      "source": [
        "# Phân loại cảm xúc trên ảnh"
      ],
      "metadata": {
        "id": "-QVQH4Np5uYV"
      }
    },
    {
      "cell_type": "code",
      "source": [
        "! gdown --id 1GaTMURqIQTjtalbNVAyVgPIEis21A0r8"
      ],
      "metadata": {
        "colab": {
          "base_uri": "https://localhost:8080/"
        },
        "id": "G86uUKHi5xTY",
        "outputId": "f2eb468a-01fc-45ec-ad09-c3a1178ebf77"
      },
      "execution_count": 126,
      "outputs": [
        {
          "output_type": "stream",
          "name": "stdout",
          "text": [
            "/usr/local/lib/python3.10/dist-packages/gdown/__main__.py:140: FutureWarning: Option `--id` was deprecated in version 4.3.1 and will be removed in 5.0. You don't need to pass it anymore to use a file ID.\n",
            "  warnings.warn(\n",
            "Downloading...\n",
            "From (original): https://drive.google.com/uc?id=1GaTMURqIQTjtalbNVAyVgPIEis21A0r8\n",
            "From (redirected): https://drive.google.com/uc?id=1GaTMURqIQTjtalbNVAyVgPIEis21A0r8&confirm=t&uuid=7f77d40c-da54-45af-b478-7634fbf11c58\n",
            "To: /content/FER-2013.zip\n",
            "100% 63.3M/63.3M [00:00<00:00, 163MB/s]\n"
          ]
        }
      ]
    },
    {
      "cell_type": "code",
      "source": [
        "import cv2\n",
        "import os\n",
        "import numpy as np\n",
        "import pandas as pd\n",
        "import matplotlib.pyplot as plt\n",
        "import torch\n",
        "import torch.nn as nn\n",
        "import torch.nn.functional as F\n",
        "from torch.utils.data import Dataset, DataLoader\n",
        "from torchvision.transforms import Resize\n",
        "from torchvision.io import read_image\n",
        "\n",
        "from sklearn.model_selection import train_test_split\n",
        "from sklearn.preprocessing import StandardScaler\n",
        "\n",
        "# Cài đặt giá trị ngẫu nhiên cố định và thiết bị tính toán:\n",
        "device = torch.device('cuda:0' if torch.cuda.is_available() else 'cpu')\n",
        "\n",
        "random_state = 59\n",
        "np.random.seed(random_state)\n",
        "torch.manual_seed(random_state)\n",
        "if torch.cuda.is_available():\n",
        "    torch.cuda.manual_seed(random_state)\n"
      ],
      "metadata": {
        "id": "PvU_pMqK6C8D"
      },
      "execution_count": 127,
      "outputs": []
    },
    {
      "cell_type": "code",
      "source": [
        "import zipfile\n",
        "\n",
        "# Đường dẫn tệp zip\n",
        "zip_path = '/content/FER-2013.zip'\n",
        "\n",
        "# Giải nén\n",
        "with zipfile.ZipFile(zip_path, 'r') as zip_ref:\n",
        "    zip_ref.extractall('/content')\n"
      ],
      "metadata": {
        "id": "6NiXXzf2FBDo"
      },
      "execution_count": 128,
      "outputs": []
    },
    {
      "cell_type": "code",
      "source": [
        "train_dir = '/content/train'\n",
        "test_dir = '/content/test'\n",
        "\n",
        "classes = os.listdir(train_dir)\n",
        "\n",
        "label2idx = {cls: idx for idx, cls in enumerate(classes)}\n",
        "idx2label = {idx: cls for cls, idx in label2idx.items()}\n",
        "\n",
        "test_img_path = '/content/train/angry/Training_10118481.jpg'\n",
        "img = cv2.imread(test_img_path)\n",
        "img_height, img_width = (128, 128)\n",
        "print(f'Image height: {img_height}')\n",
        "print(f'Image width: {img_width}')\n"
      ],
      "metadata": {
        "colab": {
          "base_uri": "https://localhost:8080/"
        },
        "id": "-ulwf3UnDuWP",
        "outputId": "fe00c79a-17a0-4eef-dc16-2f6138845b55"
      },
      "execution_count": 129,
      "outputs": [
        {
          "output_type": "stream",
          "name": "stdout",
          "text": [
            "Image height: 128\n",
            "Image width: 128\n"
          ]
        }
      ]
    },
    {
      "cell_type": "code",
      "source": [
        "class ImageDataset(Dataset):\n",
        "    def __init__(self, img_dir, norm, label2idx,\n",
        "                 split='train', train_ratio=0.8):\n",
        "        self.resize = Resize((img_height, img_width))\n",
        "        self.norm = norm\n",
        "        self.split = split\n",
        "        self.train_ratio = train_ratio\n",
        "        self.img_dir = img_dir\n",
        "        self.label2idx = label2idx\n",
        "        self.img_paths, self.img_labels = self.read_img_files()\n",
        "\n",
        "        if split in ['train', 'val'] and 'train' in img_dir.lower():\n",
        "            train_data, val_data = train_test_split(\n",
        "                list(zip(self.img_paths, self.img_labels)),\n",
        "                train_size=train_ratio,\n",
        "                random_state=random_state,\n",
        "                stratify=self.img_labels\n",
        "            )\n",
        "            if split == 'train':\n",
        "                self.img_paths, self.img_labels = zip(*train_data)\n",
        "            elif split == 'val':\n",
        "                self.img_paths, self.img_labels = zip(*val_data)\n",
        "\n",
        "    def read_img_files(self):\n",
        "        img_paths = []\n",
        "        img_labels = []\n",
        "        for cls in self.label2idx.keys():\n",
        "            for img in os.listdir(os.path.join(self.img_dir, cls)):\n",
        "                img_paths.append(os.path.join(self.img_dir, cls, img))\n",
        "                img_labels.append(cls)\n",
        "        return img_paths, img_labels\n",
        "\n",
        "    def __len__(self):\n",
        "        return len(self.img_paths)\n",
        "\n",
        "    def __getitem__(self, idx):\n",
        "        img_path = self.img_paths[idx]\n",
        "        cls = self.img_labels[idx]\n",
        "        img = self.resize(read_image(img_path))\n",
        "        img = img.type(torch.float32)\n",
        "        label = self.label2idx[cls]\n",
        "        if self.norm:\n",
        "            img = (img / 127.5) - 1\n",
        "        return img, label\n",
        "\n",
        "\n",
        "batch_size = 256\n",
        "\n",
        "train_dataset = ImageDataset(train_dir, True, label2idx, split='train')\n",
        "train_loader = DataLoader(train_dataset,\n",
        "                          batch_size=batch_size,\n",
        "                          shuffle=True)\n",
        "\n",
        "val_dataset = ImageDataset(train_dir, True, label2idx, split='val')\n",
        "val_loader = DataLoader(val_dataset,\n",
        "                        batch_size=batch_size,\n",
        "                        shuffle=False)\n",
        "\n",
        "test_dataset = ImageDataset(test_dir, True, label2idx, split='test')\n",
        "test_loader = DataLoader(test_dataset,\n",
        "                         batch_size=batch_size,\n",
        "                         shuffle=False)\n"
      ],
      "metadata": {
        "id": "3cMaqio5Ffa8"
      },
      "execution_count": 130,
      "outputs": []
    },
    {
      "cell_type": "code",
      "source": [
        "class MLP(nn.Module):\n",
        "    def __init__(self, input_dims, hidden_dims, output_dims):\n",
        "        super(MLP, self).__init__()\n",
        "        self.linear1 = nn.Linear(input_dims, hidden_dims*4)\n",
        "        self.linear2 = nn.Linear(hidden_dims*4, hidden_dims*2)\n",
        "        self.linear3 = nn.Linear(hidden_dims*2, hidden_dims)\n",
        "        self.output = nn.Linear(hidden_dims, output_dims)\n",
        "\n",
        "    def forward(self, x):\n",
        "        x = nn.Flatten()(x)\n",
        "        x = self.linear1(x)\n",
        "        x = F.relu(x)\n",
        "        x = self.linear2(x)\n",
        "        x = F.relu(x)\n",
        "        x = self.linear3(x)\n",
        "        x = F.relu(x)\n",
        "        out = self.output(x)\n",
        "        return out.squeeze(1)\n",
        "\n",
        "input_dims = img_height * img_width\n",
        "output_dims = len(classes)\n",
        "hidden_dims = 64\n",
        "lr = 1e-2\n",
        "\n",
        "model = MLP(input_dims=input_dims,\n",
        "            hidden_dims=hidden_dims,\n",
        "            output_dims=output_dims).to(device)\n"
      ],
      "metadata": {
        "id": "gvVNTaIHGKWA"
      },
      "execution_count": 131,
      "outputs": []
    },
    {
      "cell_type": "code",
      "source": [
        "criterion = nn.CrossEntropyLoss()\n",
        "optimizer = torch.optim.SGD(model.parameters(), lr=lr)\n",
        "\n",
        "# Xây dựng hàm tính độ chính xác\n",
        "def compute_accuracy(y_hat, y_true):\n",
        "    _, y_hat = torch.max(y_hat, dim=1)\n",
        "    correct = (y_hat == y_true).sum().item()\n",
        "    accuracy = correct / len(y_true)\n",
        "    return accuracy\n",
        "\n",
        "# Huấn luyện mô hình\n",
        "epochs = 40\n",
        "train_losses = []\n",
        "val_losses = []\n",
        "train_accs = []\n",
        "val_accs = []\n",
        "\n",
        "for epoch in range(epochs):\n",
        "    train_loss = 0.0\n",
        "    train_target = []\n",
        "    train_predict = []\n",
        "    model.train()\n",
        "    for X_samples, y_samples in train_loader:\n",
        "        X_samples = X_samples.to(device)\n",
        "        y_samples = y_samples.to(device)\n",
        "        optimizer.zero_grad()\n",
        "        outputs = model(X_samples)\n",
        "        loss = criterion(outputs, y_samples)\n",
        "        loss.backward()\n",
        "        optimizer.step()\n",
        "        train_loss += loss.item()\n",
        "\n",
        "        train_predict.append(outputs.detach().cpu())\n",
        "        train_target.append(y_samples.cpu())\n",
        "\n",
        "    train_loss /= len(train_loader)\n",
        "    train_losses.append(train_loss)\n",
        "\n",
        "    train_predict = torch.cat(train_predict)\n",
        "    train_target = torch.cat(train_target)\n",
        "    train_acc = compute_accuracy(train_predict, train_target)\n",
        "    train_accs.append(train_acc)\n",
        "\n",
        "    val_loss = 0.0\n",
        "    val_target = []\n",
        "    val_predict = []\n",
        "    model.eval()\n",
        "    with torch.no_grad():\n",
        "        for X_samples, y_samples in val_loader:\n",
        "            X_samples = X_samples.to(device)\n",
        "            y_samples = y_samples.to(device)\n",
        "            outputs = model(X_samples)\n",
        "            val_loss += criterion(outputs, y_samples).item()\n",
        "\n",
        "            val_predict.append(outputs.cpu())\n",
        "            val_target.append(y_samples.cpu())\n",
        "\n",
        "        val_loss /= len(val_loader)\n",
        "        val_losses.append(val_loss)\n",
        "\n",
        "        val_predict = torch.cat(val_predict)\n",
        "        val_target = torch.cat(val_target)\n",
        "        val_acc = compute_accuracy(val_predict, val_target)\n",
        "        val_accs.append(val_acc)\n",
        "\n",
        "    print(f'\\nEPOCH {epoch + 1}:\\tTraining loss: {train_loss:.3f}\\tValidation loss: {val_loss:.3f}')\n"
      ],
      "metadata": {
        "colab": {
          "base_uri": "https://localhost:8080/"
        },
        "id": "GW3O0xxEGRip",
        "outputId": "1b75d537-e661-41d9-9147-65ad7d02ebee"
      },
      "execution_count": 132,
      "outputs": [
        {
          "output_type": "stream",
          "name": "stdout",
          "text": [
            "\n",
            "EPOCH 1:\tTraining loss: 1.917\tValidation loss: 1.882\n",
            "\n",
            "EPOCH 2:\tTraining loss: 1.849\tValidation loss: 1.828\n",
            "\n",
            "EPOCH 3:\tTraining loss: 1.811\tValidation loss: 1.802\n",
            "\n",
            "EPOCH 4:\tTraining loss: 1.790\tValidation loss: 1.785\n",
            "\n",
            "EPOCH 5:\tTraining loss: 1.773\tValidation loss: 1.770\n",
            "\n",
            "EPOCH 6:\tTraining loss: 1.757\tValidation loss: 1.754\n",
            "\n",
            "EPOCH 7:\tTraining loss: 1.739\tValidation loss: 1.736\n",
            "\n",
            "EPOCH 8:\tTraining loss: 1.719\tValidation loss: 1.715\n",
            "\n",
            "EPOCH 9:\tTraining loss: 1.697\tValidation loss: 1.695\n",
            "\n",
            "EPOCH 10:\tTraining loss: 1.676\tValidation loss: 1.677\n",
            "\n",
            "EPOCH 11:\tTraining loss: 1.659\tValidation loss: 1.665\n",
            "\n",
            "EPOCH 12:\tTraining loss: 1.645\tValidation loss: 1.654\n",
            "\n",
            "EPOCH 13:\tTraining loss: 1.634\tValidation loss: 1.644\n",
            "\n",
            "EPOCH 14:\tTraining loss: 1.623\tValidation loss: 1.638\n",
            "\n",
            "EPOCH 15:\tTraining loss: 1.613\tValidation loss: 1.631\n",
            "\n",
            "EPOCH 16:\tTraining loss: 1.604\tValidation loss: 1.623\n",
            "\n",
            "EPOCH 17:\tTraining loss: 1.596\tValidation loss: 1.618\n",
            "\n",
            "EPOCH 18:\tTraining loss: 1.587\tValidation loss: 1.620\n",
            "\n",
            "EPOCH 19:\tTraining loss: 1.580\tValidation loss: 1.608\n",
            "\n",
            "EPOCH 20:\tTraining loss: 1.571\tValidation loss: 1.607\n",
            "\n",
            "EPOCH 21:\tTraining loss: 1.563\tValidation loss: 1.601\n",
            "\n",
            "EPOCH 22:\tTraining loss: 1.555\tValidation loss: 1.595\n",
            "\n",
            "EPOCH 23:\tTraining loss: 1.548\tValidation loss: 1.589\n",
            "\n",
            "EPOCH 24:\tTraining loss: 1.540\tValidation loss: 1.587\n",
            "\n",
            "EPOCH 25:\tTraining loss: 1.532\tValidation loss: 1.583\n",
            "\n",
            "EPOCH 26:\tTraining loss: 1.524\tValidation loss: 1.576\n",
            "\n",
            "EPOCH 27:\tTraining loss: 1.515\tValidation loss: 1.575\n",
            "\n",
            "EPOCH 28:\tTraining loss: 1.507\tValidation loss: 1.569\n",
            "\n",
            "EPOCH 29:\tTraining loss: 1.499\tValidation loss: 1.571\n",
            "\n",
            "EPOCH 30:\tTraining loss: 1.492\tValidation loss: 1.572\n",
            "\n",
            "EPOCH 31:\tTraining loss: 1.483\tValidation loss: 1.560\n",
            "\n",
            "EPOCH 32:\tTraining loss: 1.473\tValidation loss: 1.560\n",
            "\n",
            "EPOCH 33:\tTraining loss: 1.466\tValidation loss: 1.554\n",
            "\n",
            "EPOCH 34:\tTraining loss: 1.459\tValidation loss: 1.556\n",
            "\n",
            "EPOCH 35:\tTraining loss: 1.454\tValidation loss: 1.546\n",
            "\n",
            "EPOCH 36:\tTraining loss: 1.443\tValidation loss: 1.546\n",
            "\n",
            "EPOCH 37:\tTraining loss: 1.436\tValidation loss: 1.543\n",
            "\n",
            "EPOCH 38:\tTraining loss: 1.426\tValidation loss: 1.542\n",
            "\n",
            "EPOCH 39:\tTraining loss: 1.418\tValidation loss: 1.550\n",
            "\n",
            "EPOCH 40:\tTraining loss: 1.408\tValidation loss: 1.577\n"
          ]
        }
      ]
    },
    {
      "cell_type": "code",
      "source": [
        "fig, ax = plt.subplots(2, 2, figsize=(12, 10))\n",
        "ax[0, 0].plot(train_losses, color='green')\n",
        "ax[0, 0].set(xlabel='Epoch', ylabel='Loss')\n",
        "ax[0, 0].set_title('Training Loss')\n",
        "\n",
        "ax[0, 1].plot(val_losses, color='orange')\n",
        "ax[0, 1].set(xlabel='Epoch', ylabel='Loss')\n",
        "ax[0, 1].set_title('Validation Loss')\n",
        "\n",
        "ax[1, 0].plot(train_accs, color='green')\n",
        "ax[1, 0].set(xlabel='Epoch', ylabel='Accuracy')\n",
        "ax[1, 0].set_title('Training Accuracy')\n",
        "\n",
        "ax[1, 1].plot(val_accs, color='orange')\n",
        "ax[1, 1].set(xlabel='Epoch', ylabel='Accuracy')\n",
        "ax[1, 1].set_title('Validation Accuracy')\n",
        "\n",
        "plt.show()\n"
      ],
      "metadata": {
        "colab": {
          "base_uri": "https://localhost:8080/",
          "height": 872
        },
        "id": "_y_wouPXGtK4",
        "outputId": "27b2fcd3-2114-43e5-8237-ea28311cf36a"
      },
      "execution_count": 133,
      "outputs": [
        {
          "output_type": "display_data",
          "data": {
            "text/plain": [
              "<Figure size 1200x1000 with 4 Axes>"
            ],
            "image/png": "[encoded data removed]"
          },
          "metadata": {}
        }
      ]
    }
  ]
}