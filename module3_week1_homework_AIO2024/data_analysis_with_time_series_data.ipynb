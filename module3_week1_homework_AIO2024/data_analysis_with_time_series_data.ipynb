{
  "nbformat": 4,
  "nbformat_minor": 0,
  "metadata": {
    "colab": {
      "provenance": [],
      "toc_visible": true
    },
    "kernelspec": {
      "name": "python3",
      "display_name": "Python 3"
    },
    "language_info": {
      "name": "python"
    }
  },
  "cells": [
    {
      "cell_type": "markdown",
      "source": [
        "# Data Analysis with Time Series Data\n",
        "This notebook covers the data analysis of time series data using pandas."
      ],
      "metadata": {
        "id": "S_OcSwujfSzx"
      }
    },
    {
      "cell_type": "code",
      "source": [
        "import pandas as pd\n",
        "import matplotlib.pyplot as plt\n",
        "import seaborn as sns\n",
        "\n",
        "# Load the dataset\n",
        "dataset_path = './opsd_germany_daily.csv'\n",
        "opsd_daily = pd.read_csv(dataset_path)\n",
        "\n",
        "# Display the shape and data types\n",
        "print(opsd_daily.shape)\n",
        "print(opsd_daily.dtypes)\n",
        "opsd_daily.head(3)"
      ],
      "metadata": {
        "id": "l9I7vnNpfXEs"
      },
      "execution_count": null,
      "outputs": []
    },
    {
      "cell_type": "code",
      "source": [
        "# Set the 'Date' column as the index\n",
        "opsd_daily = opsd_daily.set_index('Date')\n",
        "opsd_daily.head(3)"
      ],
      "metadata": {
        "id": "qNvv8HzDft0b"
      },
      "execution_count": null,
      "outputs": []
    },
    {
      "cell_type": "code",
      "source": [
        "# Reload dataset with Date as index and parse dates\n",
        "opsd_daily = pd.read_csv(dataset_path, index_col=0, parse_dates=True)\n",
        "\n",
        "# Add Year, Month, and Weekday columns\n",
        "opsd_daily['Year'] = opsd_daily.index.year\n",
        "opsd_daily['Month'] = opsd_daily.index.month\n",
        "opsd_daily['Weekday Name'] = opsd_daily.index.day_name()\n",
        "\n",
        "# Display a random sampling of 5 rows\n",
        "opsd_daily.sample(5, random_state=0)"
      ],
      "metadata": {
        "id": "12vT7ydAfwVa"
      },
      "execution_count": null,
      "outputs": []
    },
    {
      "cell_type": "code",
      "source": [
        "# Set up the plotting environment\n",
        "sns.set(rc={'figure.figsize': (11, 4)})\n",
        "\n",
        "# Plot the 'Consumption' column\n",
        "opsd_daily['Consumption'].plot(linewidth=0.5)\n",
        "plt.show()"
      ],
      "metadata": {
        "id": "dW2t9rrAfyJV"
      },
      "execution_count": null,
      "outputs": []
    },
    {
      "cell_type": "code",
      "source": [
        "# Boxplot to visualize seasonality in Consumption, Solar, and Wind\n",
        "fig, axes = plt.subplots(3, 1, figsize=(11, 10), sharex=True)\n",
        "\n",
        "for name, ax in zip(['Consumption', 'Solar', 'Wind'], axes):\n",
        "    sns.boxplot(data=opsd_daily, x='Month', y=name, ax=ax)\n",
        "    ax.set_ylabel('GWh')\n",
        "    ax.set_title(name)\n",
        "\n",
        "plt.show()"
      ],
      "metadata": {
        "id": "QWMvB4Wqf1ZZ"
      },
      "execution_count": null,
      "outputs": []
    },
    {
      "cell_type": "code",
      "source": [
        "# Resample to weekly frequency, aggregating with mean\n",
        "data_columns = ['Consumption', 'Wind', 'Solar', 'Wind+Solar']\n",
        "opsd_weekly_mean = opsd_daily[data_columns].resample('W').mean()\n",
        "\n",
        "# Plot the resampled data\n",
        "fig, ax = plt.subplots()\n",
        "ax.plot(opsd_daily.loc['2017-01':'2017-06', 'Solar'], marker='.', linestyle='-', linewidth=0.5, label='Daily')\n",
        "ax.plot(opsd_weekly_mean.loc['2017-01':'2017-06', 'Solar'], marker='o', markersize=8, linestyle='-', label='Weekly Mean Resample')\n",
        "ax.set_ylabel('Solar Production (GWh)')\n",
        "ax.legend()\n",
        "plt.show()"
      ],
      "metadata": {
        "id": "TAJjDeXwf3DO"
      },
      "execution_count": null,
      "outputs": []
    },
    {
      "cell_type": "code",
      "source": [
        "# Compute the centered 7-day rolling mean\n",
        "opsd_7d = opsd_daily[data_columns].rolling(7, center=True).mean()\n",
        "\n",
        "# Display the first 10 rows of the rolling mean\n",
        "opsd_7d.head(10)"
      ],
      "metadata": {
        "id": "KEBiDlf_f5NY"
      },
      "execution_count": null,
      "outputs": []
    },
    {
      "cell_type": "code",
      "source": [
        "# Compute the 365-day rolling mean\n",
        "opsd_365d = opsd_daily[data_columns].rolling(window=365, center=True, min_periods=360).mean()\n",
        "\n",
        "# Plot the trends in electricity consumption\n",
        "fig, ax = plt.subplots()\n",
        "ax.plot(opsd_daily['Consumption'], marker='.', markersize=2, color='0.6', linestyle='None', label='Daily')\n",
        "ax.plot(opsd_7d['Consumption'], linewidth=2, label='7-d Rolling Mean')\n",
        "ax.plot(opsd_365d['Consumption'], color='0.2', linewidth=3, label='Trend (365-d Rolling Mean)')\n",
        "ax.xaxis.set_major_locator(plt.MaxNLocator(6))\n",
        "ax.legend()\n",
        "ax.set_xlabel('Year')\n",
        "ax.set_ylabel('Consumption (GWh)')\n",
        "ax.set_title('Trends in Electricity Consumption')\n",
        "plt.show()"
      ],
      "metadata": {
        "id": "p_I5RBKxf6xy"
      },
      "execution_count": null,
      "outputs": []
    }
  ]
}