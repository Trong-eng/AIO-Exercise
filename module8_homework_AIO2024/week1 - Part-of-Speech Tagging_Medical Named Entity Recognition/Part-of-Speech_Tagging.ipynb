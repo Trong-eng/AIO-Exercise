{
 "cells": [
  {
   "cell_type": "code",
   "execution_count": null,
   "metadata": {
    "vscode": {
     "languageId": "plaintext"
    }
   },
   "outputs": [],
   "source": [
    "# Cài đặt các thư viện cần thiết\n",
    "!pip install transformers evaluate nltk scikit-learn torch"
   ]
  },
  {
   "cell_type": "code",
   "execution_count": null,
   "metadata": {
    "vscode": {
     "languageId": "plaintext"
    }
   },
   "outputs": [],
   "source": [
    "from typing import List\n",
    "import numpy as np\n",
    "import torch\n",
    "import evaluate\n",
    "from sklearn.model_selection import train_test_split\n",
    "import nltk\n",
    "from transformers import AutoTokenizer, AutoModelForTokenClassification, TrainingArguments, Trainer\n",
    "from torch.utils.data import Dataset\n",
    "\n",
    "nltk.download('treebank')\n",
    "tagged_sentences = nltk.corpus.treebank.tagged_sents()\n",
    "print(\"Number of samples:\", len(tagged_sentences))\n",
    "\n",
    "sentences, sentence_tags = [], []\n",
    "for tagged_sentence in tagged_sentences:\n",
    "    sentence, tags = zip(*tagged_sentence)\n",
    "    sentences.append([word.lower() for word in sentence])\n",
    "    sentence_tags.append([tag for tag in tags])\n",
    "\n",
    "train_sentences, test_sentences, train_tags, test_tags = train_test_split(\n",
    "    sentences, sentence_tags, test_size=0.3, random_state=42\n",
    ")\n",
    "valid_sentences, test_sentences, valid_tags, test_tags = train_test_split(\n",
    "    test_sentences, test_tags, test_size=0.5, random_state=42\n",
    ")"
   ]
  },
  {
   "cell_type": "code",
   "execution_count": null,
   "metadata": {
    "vscode": {
     "languageId": "plaintext"
    }
   },
   "outputs": [],
   "source": [
    "model_name = \"QCRI/bert-base-multilingual-cased-pos-english\"\n",
    "tokenizer = AutoTokenizer.from_pretrained(model_name, use_fast=True)\n",
    "MAX_LEN = 256\n",
    "\n",
    "class PosTaggingDataset(Dataset):\n",
    "    def __init__(self, sentences: List[List[str]], tags: List[List[str]], tokenizer, label2id, max_len=MAX_LEN):\n",
    "        super().__init__()\n",
    "        self.sentences = sentences\n",
    "        self.tags = tags\n",
    "        self.tokenizer = tokenizer\n",
    "        self.label2id = label2id\n",
    "        self.max_len = max_len\n",
    "\n",
    "    def __len__(self):\n",
    "        return len(self.sentences)\n",
    "\n",
    "    def __getitem__(self, idx):\n",
    "        input_token = self.sentences[idx]\n",
    "        label_token = self.tags[idx]\n",
    "\n",
    "        # Tokenize và chuyển đổi nhãn\n",
    "        input_token = self.tokenizer.convert_tokens_to_ids(input_token)\n",
    "        attention_mask = [1] * len(input_token)\n",
    "        labels = [self.label2id.get(token, self.label2id[\"O\"]) for token in label_token]\n",
    "\n",
    "        return {\n",
    "            \"input_ids\": self.pad_and_truncate(input_token, pad_id=self.tokenizer.pad_token_id),\n",
    "            \"labels\": self.pad_and_truncate(labels, pad_id=self.label2id[\"O\"]),\n",
    "            \"attention_mask\": self.pad_and_truncate(attention_mask, pad_id=0),\n",
    "        }\n",
    "\n",
    "    def pad_and_truncate(self, inputs: List[int], pad_id: int):\n",
    "        if len(inputs) < self.max:\n",
    "            padded_inputs = inputs + [pad_id] * (self.max_len - len(inputs))\n",
    "        else:\n",
    "            padded_inputs = inputs[:self.max_len]\n",
    "        return torch.as_tensor(padded_inputs)\n",
    "\n",
    "unique_tags = set(tag for doc in sentence_tags for tag in doc)\n",
    "label2id = {tag: idx for idx, tag in enumerate(unique_tags)}\n",
    "id2label = {idx: tag for tag, idx in label2id.items()}\n",
    "\n",
    "train_dataset = PosTaggingDataset(train_sentences, train_tags, tokenizer, label2id)\n",
    "val_dataset = PosTaggingDataset(valid_sentences, valid_tags, tokenizer, label2id)\n",
    "test_dataset = PosTaggingDataset(test_sentences, test_tags, tokenizer, label2id)"
   ]
  },
  {
   "cell_type": "code",
   "execution_count": null,
   "metadata": {
    "vscode": {
     "languageId": "plaintext"
    }
   },
   "outputs": [],
   "source": [
    "model = AutoModelForTokenClassification.from_pretrained(\n",
    "    model_name, num_labels=len(label2id), id2label=id2label, label2id=label2id\n",
    ")\n",
    "\n",
    "accuracy = evaluate.load(\"accuracy\")\n",
    "ignore_label = len(label2id)\n",
    "\n",
    "def compute_metrics(eval_pred):\n",
    "    predictions, labels = eval_pred\n",
    "    mask = labels != ignore_label\n",
    "    predictions = np.argmax(predictions, axis=-1)\n",
    "    return accuracy.compute(predictions=predictions[mask], references=labels[mask])\n",
    "\n",
    "training_args = TrainingArguments(\n",
    "    output_dir=\"out_dir\",\n",
    "    learning_rate=1e-5,\n",
    "    per_device_train_batch_size=16,\n",
    "    per_device_eval_batch_size=16,\n",
    "    num_train_epochs=10,\n",
    "    eval_strategy=\"epoch\",\n",
    "    save_strategy=\"epoch\",\n",
    "    load_best_model_at_end=True,\n",
    ")\n",
    "\n",
    "trainer = Trainer(\n",
    "    model=model,\n",
    "    args=training_args,\n",
    "    train_dataset=train_dataset,\n",
    "    eval_dataset=val_dataset,\n",
    "    tokenizer=tokenizer,\n",
    "    compute_metrics=compute_metrics,\n",
    ")\n",
    "\n",
    "trainer.train()"
   ]
  },
  {
   "cell_type": "code",
   "execution_count": null,
   "metadata": {
    "vscode": {
     "languageId": "plaintext"
    }
   },
   "outputs": [],
   "source": [
    "test_sentence = \"We are exploring the topic of deep learning\"\n",
    "input_ids = torch.as_tensor([tokenizer.convert_tokens_to_ids(test_sentence.split())]).to(\"cuda\")\n",
    "outputs = model(input_ids)\n",
    "_, preds = torch.max(outputs.logits, -1)\n",
    "preds = preds[0].cpu().numpy()\n",
    "\n",
    "pred_tags = [id2label[pred] for pred in preds]\n",
    "print(\"Predicted Tags:\", pred_tags)"
   ]
  }
 ],
 "metadata": {
  "language_info": {
   "name": "python"
  }
 },
 "nbformat": 4,
 "nbformat_minor": 2
}
