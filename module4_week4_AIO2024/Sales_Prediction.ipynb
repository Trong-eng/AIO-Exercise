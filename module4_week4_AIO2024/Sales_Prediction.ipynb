{
  "nbformat": 4,
  "nbformat_minor": 0,
  "metadata": {
    "colab": {
      "provenance": [],
      "toc_visible": true
    },
    "kernelspec": {
      "name": "python3",
      "display_name": "Python 3"
    },
    "language_info": {
      "name": "python"
    }
  },
  "cells": [
    {
      "cell_type": "markdown",
      "source": [
        "# Linear Regression\n"
      ],
      "metadata": {
        "id": "gpZnEllyXa5Y"
      }
    },
    {
      "cell_type": "code",
      "source": [
        "import numpy as np\n",
        "class CustomLinearRegression:\n",
        "    def __init__(self, X_data, y_target, learning_rate=0.01, num_epochs=10000):\n",
        "        self.num_samples = X_data.shape[0]\n",
        "        self.X_data = np.c_[np.ones((self.num_samples, 1)), X_data]\n",
        "        self.y_target = y_target\n",
        "        self.learning_rate = learning_rate\n",
        "        self.num_epochs = num_epochs\n",
        "\n",
        "        # Initial weights\n",
        "        self.theta = np.random.randn(self.X_data.shape[1], 1)\n",
        "        self.losses = []\n",
        "\n",
        "    def compute_loss(self, y_pred, y_target):\n",
        "        loss = np.mean((y_pred - y_target) ** 2) / 2\n",
        "        return loss\n",
        "\n",
        "    def predict(self, X_data):\n",
        "        X_data = np.c_[np.ones((X_data.shape[0], 1)), X_data]\n",
        "        y_pred = np.dot(X_data, self.theta)\n",
        "        return y_pred\n",
        "\n",
        "    def fit(self):\n",
        "        for epoch in range(self.num_epochs):\n",
        "            y_pred = self.predict(self.X_data)\n",
        "            loss = self.compute_loss(y_pred, self.y_target)\n",
        "            self.losses.append(loss)\n",
        "\n",
        "            gradients = np.dot(self.X_data.T, (y_pred - self.y_target)) / self.num_samples\n",
        "            self.theta -= self.learning_rate * gradients\n",
        "\n",
        "            if (epoch % 50) == 0:\n",
        "                print(f'Epoch: {epoch} - Loss: {loss}')\n",
        "\n",
        "        return {\n",
        "            'loss': sum(self.losses)/len(self.losses),\n",
        "            'weight': self.theta\n",
        "        }\n"
      ],
      "metadata": {
        "id": "HJUWvvijXefL"
      },
      "execution_count": 3,
      "outputs": []
    },
    {
      "cell_type": "code",
      "source": [
        "def r2score ( y_pred , y ):\n",
        "  rss = np . sum (( y_pred - y ) ** 2)\n",
        "  tss = np . sum (( y - y. mean () ) ** 2)\n",
        "  r2 = 1 - ( rss / tss )\n",
        "  return r2"
      ],
      "metadata": {
        "id": "n8n3ws1AcnDI"
      },
      "execution_count": 10,
      "outputs": []
    },
    {
      "cell_type": "code",
      "source": [
        "y_pred = np . array ([1 , 2 , 3 , 4 , 5])\n",
        "y = np . array ([1 , 2 , 3 , 4 , 5])\n",
        "r2score(y_pred , y )"
      ],
      "metadata": {
        "colab": {
          "base_uri": "https://localhost:8080/"
        },
        "id": "sZvB5GRWcre0",
        "outputId": "18773313-7ad9-4c9d-d9df-ed3fa584ec58"
      },
      "execution_count": 11,
      "outputs": [
        {
          "output_type": "execute_result",
          "data": {
            "text/plain": [
              "1.0"
            ]
          },
          "metadata": {},
          "execution_count": 11
        }
      ]
    },
    {
      "cell_type": "code",
      "source": [
        "y_pred = np . array ([1 , 2 , 3 , 4 , 5])\n",
        "y = np . array ([3 , 5 , 5 , 2 , 4])\n",
        "r2score ( y_pred , y )"
      ],
      "metadata": {
        "colab": {
          "base_uri": "https://localhost:8080/"
        },
        "id": "r8TtthXOc8Nu",
        "outputId": "2088e778-1dd4-4c9d-fee6-083d899f6b84"
      },
      "execution_count": 12,
      "outputs": [
        {
          "output_type": "execute_result",
          "data": {
            "text/plain": [
              "-2.235294117647059"
            ]
          },
          "metadata": {},
          "execution_count": 12
        }
      ]
    },
    {
      "cell_type": "markdown",
      "source": [
        "# Polynomial Regression"
      ],
      "metadata": {
        "id": "bW8kwi8PdcJ-"
      }
    },
    {
      "cell_type": "code",
      "source": [
        "def create_polynomial_features (X , degree =2) :\n",
        "  X_new = X\n",
        "  for d in range (2 , degree +1) :\n",
        "    X_new = np . c_ [ X_new , np . power (X , d ) ]\n",
        "  return X_new\n",
        "X = np . array ([[1] , [2] , [3]])\n",
        "create_polynomial_features (X , degree =2)"
      ],
      "metadata": {
        "colab": {
          "base_uri": "https://localhost:8080/"
        },
        "id": "eUG0kOH_lbq5",
        "outputId": "f3820bad-f4b3-4512-ad95-7cb36f4766e8"
      },
      "execution_count": 22,
      "outputs": [
        {
          "output_type": "execute_result",
          "data": {
            "text/plain": [
              "array([[1, 1],\n",
              "       [2, 4],\n",
              "       [3, 9]])"
            ]
          },
          "metadata": {},
          "execution_count": 22
        }
      ]
    },
    {
      "cell_type": "code",
      "source": [
        "def create_polynomial_features(X, degree=2):\n",
        "    \"\"\"Creates the polynomial features\n",
        "    Args:\n",
        "        X: A array for the data.\n",
        "        degree: A integer for the degree of\n",
        "        the generated polynomial function.\n",
        "    \"\"\"\n",
        "    X_mem = []\n",
        "    for X_sub in X.T:\n",
        "        X_new = X_sub\n",
        "        for d in range(2, degree+1):\n",
        "            X_new = np.c_[X_new, np.power(X_sub, d)]\n",
        "        X_mem.extend(X_new.T)\n",
        "    return np.c_[X_mem].T\n",
        "\n",
        "\n",
        "X = np . array ([[1 , 2] ,\n",
        "[2 , 3] ,\n",
        "[3 , 4]])\n",
        "create_polynomial_features (X , degree =2)"
      ],
      "metadata": {
        "colab": {
          "base_uri": "https://localhost:8080/"
        },
        "id": "UFS8MPGZgbCw",
        "outputId": "d5e48f1f-ca1d-4846-a909-b88177af4781"
      },
      "execution_count": 27,
      "outputs": [
        {
          "output_type": "execute_result",
          "data": {
            "text/plain": [
              "array([[ 1,  1,  2,  4],\n",
              "       [ 2,  4,  3,  9],\n",
              "       [ 3,  9,  4, 16]])"
            ]
          },
          "metadata": {},
          "execution_count": 27
        }
      ]
    },
    {
      "cell_type": "markdown",
      "source": [
        "# Sales Prediction"
      ],
      "metadata": {
        "id": "w0t7m4JUniBP"
      }
    },
    {
      "cell_type": "code",
      "source": [
        "!gdown 1A8kK0IEsT3w8htzU18ihFr5UV-euhquC"
      ],
      "metadata": {
        "colab": {
          "base_uri": "https://localhost:8080/"
        },
        "id": "hP8Qxo4CnjYu",
        "outputId": "8165360a-401b-4782-da95-cfc304a5d2ca"
      },
      "execution_count": 28,
      "outputs": [
        {
          "output_type": "stream",
          "name": "stdout",
          "text": [
            "Downloading...\n",
            "From: https://drive.google.com/uc?id=1A8kK0IEsT3w8htzU18ihFr5UV-euhquC\n",
            "To: /content/SalesPrediction.csv\n",
            "\r  0% 0.00/206k [00:00<?, ?B/s]\r100% 206k/206k [00:00<00:00, 37.7MB/s]\n"
          ]
        }
      ]
    },
    {
      "cell_type": "code",
      "source": [
        "import pandas as pd\n",
        "df = pd.read_csv('/content/SalesPrediction.csv')\n",
        "df = pd.get_dummies(df, columns=[\"Influencer\"], drop_first=False)  # `drop_first=False` giữ tất cả các cột nhị phân\n",
        "print(df.head())\n"
      ],
      "metadata": {
        "colab": {
          "base_uri": "https://localhost:8080/"
        },
        "id": "m-HHyy1joCce",
        "outputId": "49941584-cf84-41b5-844a-2ea6a9c59eb0"
      },
      "execution_count": 43,
      "outputs": [
        {
          "output_type": "stream",
          "name": "stdout",
          "text": [
            "     TV      Radio  Social Media       Sales  Influencer_Macro  \\\n",
            "0  16.0   6.566231      2.907983   54.732757             False   \n",
            "1  13.0   9.237765      2.409567   46.677897             False   \n",
            "2  41.0  15.886446      2.913410  150.177829             False   \n",
            "3  83.0  30.020028      6.922304  298.246340             False   \n",
            "4  15.0   8.437408      1.405998   56.594181             False   \n",
            "\n",
            "   Influencer_Mega  Influencer_Micro  Influencer_Nano  \n",
            "0             True             False            False  \n",
            "1             True             False            False  \n",
            "2             True             False            False  \n",
            "3             True             False            False  \n",
            "4            False              True            False  \n"
          ]
        }
      ]
    },
    {
      "cell_type": "code",
      "source": [
        "import pandas as pd\n",
        "\n",
        "# Tải dữ liệu từ file CSV\n",
        "df = pd.read_csv('/content/SalesPrediction.csv')  # Đảm bảo đường dẫn chính xác\n",
        "\n",
        "# In danh sách các cột trong DataFrame\n",
        "print(\"Các cột trong dữ liệu:\", df.columns)\n"
      ],
      "metadata": {
        "colab": {
          "base_uri": "https://localhost:8080/"
        },
        "id": "mDf1wxsloto5",
        "outputId": "17e322f2-8f0f-43f1-d1e0-a516cb550272"
      },
      "execution_count": 42,
      "outputs": [
        {
          "output_type": "stream",
          "name": "stdout",
          "text": [
            "Các cột trong dữ liệu: Index(['TV', 'Radio', 'Social Media', 'Influencer', 'Sales'], dtype='object')\n"
          ]
        }
      ]
    },
    {
      "cell_type": "code",
      "source": [
        "# Handle Null values\n",
        "df = df.fillna(df.mean())\n",
        "\n",
        "# Get features\n",
        "X = df[['TV', 'Radio', 'Social Media', 'Influencer_Macro', 'Influencer_Mega',\n",
        "        'Influencer_Micro', 'Influencer_Nano']]\n",
        "y = df[['Sales']]\n",
        "\n",
        "# Train Test Split\n",
        "from sklearn.model_selection import train_test_split\n",
        "X_train, X_test, y_train, y_test = train_test_split(\n",
        "    X,\n",
        "    y,\n",
        "    test_size=0.33,\n",
        "    random_state=0\n",
        ")\n"
      ],
      "metadata": {
        "id": "g_CPCbY1rm9v"
      },
      "execution_count": 44,
      "outputs": []
    },
    {
      "cell_type": "code",
      "source": [
        "from sklearn.preprocessing import StandardScaler\n",
        "from sklearn.preprocessing import PolynomialFeatures\n",
        "\n",
        "# Chuẩn hóa dữ liệu huấn luyện và kiểm tra\n",
        "scaler = StandardScaler()\n",
        "X_train_processed = scaler.fit_transform(X_train)\n",
        "X_test_processed = scaler.transform(X_test)\n",
        "\n",
        "# Tạo đặc trưng đa thức\n",
        "poly_features = PolynomialFeatures(degree=2)\n",
        "X_train_poly = poly_features.fit_transform(X_train_processed)\n",
        "X_test_poly = poly_features.transform(X_test_processed)\n",
        "\n",
        "# Kiểm tra kết quả\n",
        "print(\"X_train_poly:\", X_train_poly[:5])  # Hiển thị 5 dòng đầu tiên của tập huấn luyện đa thức\n",
        "print(\"X_test_poly:\", X_test_poly[:5])    # Hiển thị 5 dòng đầu tiên của tập kiểm tra đa thức\n"
      ],
      "metadata": {
        "colab": {
          "base_uri": "https://localhost:8080/"
        },
        "id": "oB29ZZc9sQHy",
        "outputId": "963ecee2-93a3-4f5e-89b2-1899a96c6566"
      },
      "execution_count": 47,
      "outputs": [
        {
          "output_type": "stream",
          "name": "stdout",
          "text": [
            "X_train_poly: [[ 1.          0.33869282 -0.3935435  -0.17228084 -0.57395739 -0.57948652\n",
            "   1.73167391 -0.57848122  0.11471283 -0.13329036 -0.05835028 -0.19439525\n",
            "  -0.19626792  0.58650552 -0.19592744  0.15487649  0.06780001  0.2258772\n",
            "   0.22805315 -0.68148902  0.22765753  0.02968069  0.09888186  0.09983443\n",
            "  -0.29833424  0.09966123  0.32942708  0.33260057 -0.99390703  0.33202357\n",
            "   0.33580462 -1.00348168  0.33522207  2.99869452 -1.00174084  0.33464052]\n",
            " [ 1.         -0.19852366 -0.28899849 -1.47661593 -0.57395739  1.72566569\n",
            "  -0.57747593 -0.57848122  0.03941164  0.05737304  0.2931432   0.11394412\n",
            "  -0.34258547  0.11464263  0.11484221  0.08352013  0.42673977  0.16587282\n",
            "  -0.49871477  0.16688967  0.1671802   2.18039462  0.84751462 -2.54814546\n",
            "   0.85271016  0.85419459  0.32942708 -0.99045857  0.33144658  0.33202357\n",
            "   2.97792208 -0.9965304  -0.9982652   0.33347845  0.33405898  0.33464052]\n",
            " [ 1.         -0.42875929 -1.07436552 -0.55865556 -0.57395739 -0.57948652\n",
            "  -0.57747593  1.72866459  0.18383453  0.4606442   0.23952876  0.24608956\n",
            "   0.24846023  0.24759817 -0.741181    1.15426126  0.60020027  0.61664003\n",
            "   0.62258033  0.62042023 -1.85721762  0.31209604  0.32064449  0.32373337\n",
            "   0.32261014 -0.96572809  0.32942708  0.33260057  0.33144658 -0.99217981\n",
            "   0.33580462  0.33463952 -1.00173782  0.33347845 -0.99826219  2.98828125]\n",
            " [ 1.         -1.50319225 -1.35945784 -0.80199875 -0.57395739 -0.57948652\n",
            "   1.73167391 -0.57848122  2.25958694  2.0435265   1.2055583   0.8627683\n",
            "   0.87107964 -2.6030388   0.86956849  1.84812563  1.09028349  0.78027087\n",
            "   0.78778749 -2.35413767  0.78642083  0.64320199  0.46031311  0.46474746\n",
            "  -1.3888003   0.46394121  0.32942708  0.33260057 -0.99390703  0.33202357\n",
            "   0.33580462 -1.00348168  0.33522207  2.99869452 -1.00174084  0.33464052]\n",
            " [ 1.          1.72010663  1.84836238  0.42915224  1.74228962 -0.57948652\n",
            "  -0.57747593 -0.57848122  2.9587668   3.17938037  0.73818762  2.99692392\n",
            "  -0.9967786  -0.99332017 -0.99504938  3.41644348  0.79322886  3.22038259\n",
            "  -1.07110108 -1.06738478 -1.06924293  0.18417165  0.7477075  -0.24868794\n",
            "  -0.24782509 -0.24825651  3.03557312 -1.00963334 -1.00613032 -1.00788183\n",
            "   0.33580462  0.33463952  0.33522207  0.33347845  0.33405898  0.33464052]]\n",
            "X_test_poly: [[ 1.         -0.35201408 -0.11430114 -0.84511838 -0.57395739 -0.57948652\n",
            "   1.73167391 -0.57848122  0.12391391  0.04023561  0.29749357  0.20204108\n",
            "   0.20398741 -0.6095736   0.20363354  0.01306475  0.096598    0.06560399\n",
            "   0.06623597 -0.19793231  0.06612107  0.71422507  0.48506194  0.4897347\n",
            "  -1.46346944  0.48888511  0.32942708  0.33260057 -0.99390703  0.33202357\n",
            "   0.33580462 -1.00348168  0.33522207  2.99869452 -1.00174084  0.33464052]\n",
            " [ 1.          0.76079148  1.17283689 -0.45267728 -0.57395739 -0.57948652\n",
            "  -0.57747593  1.72866459  0.57880368  0.89228432 -0.34439302 -0.43666189\n",
            "  -0.44086841 -0.43933877  1.3151533   1.37554638 -0.53091661 -0.6731584\n",
            "  -0.67964317 -0.67728508  2.0274416   0.20491672  0.25981747  0.26232038\n",
            "   0.26141023 -0.78252718  0.32942708  0.33260057  0.33144658 -0.99217981\n",
            "   0.33580462  0.33463952 -1.00173782  0.33347845 -0.99826219  2.98828125]\n",
            " [ 1.          1.14451754  1.04152015  1.06551646 -0.57395739  1.72566569\n",
            "  -0.57747593 -0.57848122  1.3099204   1.19203808  1.21950227 -0.6569043\n",
            "   1.97505465 -0.66093133 -0.6620819   1.08476422  1.10975686 -0.59778818\n",
            "   1.79731559 -0.60145282 -0.60249985  1.13532532 -0.61156104  1.83872519\n",
            "  -0.61531011 -0.61638126  0.32942708 -0.99045857  0.33144658  0.33202357\n",
            "   2.97792208 -0.9965304  -0.9982652   0.33347845  0.33405898  0.33464052]\n",
            " [ 1.          1.10614493  1.70928221  3.01813802 -0.57395739  1.72566569\n",
            "  -0.57747593 -0.57848122  1.22355662  1.89071386  3.33849808 -0.63488006\n",
            "   1.90883636 -0.63877208 -0.63988407  2.92164568  5.15884962 -0.98105515\n",
            "   2.94964967 -0.98706933 -0.98878766  9.10915708 -1.73228261  5.20829722\n",
            "  -1.74290206 -1.74593616  0.32942708 -0.99045857  0.33144658  0.33202357\n",
            "   2.97792208 -0.9965304  -0.9982652   0.33347845  0.33405898  0.33464052]\n",
            " [ 1.         -1.27295662 -1.74985382  0.87914287 -0.57395739  1.72566569\n",
            "  -0.57747593 -0.57848122  1.62041855  2.227488   -1.11911074  0.73062285\n",
            "  -2.19669756  0.73510181  0.7363815   3.06198839 -1.53837151  1.00434153\n",
            "  -3.0196627   1.01049846  1.01225757  0.77289219 -0.50459055  1.51710669\n",
            "  -0.50768385 -0.50856764  0.32942708 -0.99045857  0.33144658  0.33202357\n",
            "   2.97792208 -0.9965304  -0.9982652   0.33347845  0.33405898  0.33464052]]\n"
          ]
        }
      ]
    },
    {
      "cell_type": "code",
      "source": [
        "from sklearn . linear_model import LinearRegression\n",
        "from sklearn . metrics import r2_score\n",
        "poly_model = LinearRegression ()\n",
        "poly_model . fit ( X_train_poly , y_train )\n",
        "preds = poly_model . predict ( X_test_poly )\n",
        "r2_score ( y_test , preds )\n"
      ],
      "metadata": {
        "colab": {
          "base_uri": "https://localhost:8080/"
        },
        "id": "P9LwkM1FtPmm",
        "outputId": "ce638cff-4131-4826-f861-35ec19e6ad82"
      },
      "execution_count": 48,
      "outputs": [
        {
          "output_type": "execute_result",
          "data": {
            "text/plain": [
              "0.9951796158547627"
            ]
          },
          "metadata": {},
          "execution_count": 48
        }
      ]
    },
    {
      "cell_type": "code",
      "source": [],
      "metadata": {
        "id": "NVleFv9LtQJ9"
      },
      "execution_count": null,
      "outputs": []
    }
  ]
}