{
  "nbformat": 4,
  "nbformat_minor": 0,
  "metadata": {
    "colab": {
      "provenance": []
    },
    "kernelspec": {
      "name": "python3",
      "display_name": "Python 3"
    },
    "language_info": {
      "name": "python"
    }
  },
  "cells": [
    {
      "cell_type": "code",
      "execution_count": null,
      "metadata": {
        "id": "3OwIQ26WC7C2"
      },
      "outputs": [],
      "source": [
        "import numpy as np\n",
        "def compute_vector_length(vector):\n",
        "    vector = np.array(vector)\n",
        "    length_vector = np.linalg.norm(vector)\n",
        "    return length_vector\n",
        "compute_vector_length([1,2,3])"
      ]
    },
    {
      "cell_type": "code",
      "source": [
        "def compute_dot_product(x,y):\n",
        "    s = 0\n",
        "    for i in range(len(x)):\n",
        "        s += x[i]*y[i]\n",
        "    return s\n",
        "compute_dot_product([1,2,3],[1,1,1])"
      ],
      "metadata": {
        "id": "eC5xAMafDFhl"
      },
      "execution_count": null,
      "outputs": []
    },
    {
      "cell_type": "code",
      "source": [
        "def matrix_multi_vector(matrix,vector):\n",
        "    new_matrix = []\n",
        "    for i in range(len(matrix)):\n",
        "        s = 0\n",
        "        for j in range(len(matrix[0])):\n",
        "            s += matrix[i][j] * vector[j]\n",
        "        new_matrix.append(s)\n",
        "    return new_matrix\n",
        "matrix_multi_vector([[1,2,3],[5,6,7],[8,9,10]], [22,3,4])"
      ],
      "metadata": {
        "id": "DunslTITDJ8w"
      },
      "execution_count": null,
      "outputs": []
    },
    {
      "cell_type": "code",
      "source": [
        "import numpy as np\n",
        "def matrix_multi_vector(matrix1,matrix2):\n",
        "    matrix1 = np.array(matrix1)\n",
        "    matrix2 = np.array(matrix2)\n",
        "    return matrix1 @ matrix2\n",
        "matrix_multi_vector([[1,2],[3,4],[5,6]],[[2,3,4,5],[7,8,9,10]])"
      ],
      "metadata": {
        "id": "b8o8YfynDMkA"
      },
      "execution_count": null,
      "outputs": []
    },
    {
      "cell_type": "markdown",
      "source": [
        "'''#Matrix A: A =[[a b] [c d]]\n",
        ", A ∈ R2∗2\n",
        "• Determinant of A ∈ R2∗2\n",
        "\n",
        ": det(A) = ad − bc\n",
        "\n",
        "• if det(A) ̸= 0 A is invertible\n",
        "• Inverse Matrix: A^-1 =\n",
        "1/det(A)(d −b\n",
        "−c a)'''"
      ],
      "metadata": {
        "id": "G2Z2ukYmDWUU"
      }
    },
    {
      "cell_type": "code",
      "source": [
        "def inverse_matrix(matrix):\n",
        "    matrix = np.array(matrix)\n",
        "    return np.linalg.inv(matrix)\n",
        "inverse_matrix([[1,2,99],[4,45,644],[7,8,29]])\n"
      ],
      "metadata": {
        "colab": {
          "base_uri": "https://localhost:8080/"
        },
        "id": "2lvHbFJsDoVr",
        "outputId": "0db6b8b8-c085-46ed-b692-47996ddefc7d"
      },
      "execution_count": 12,
      "outputs": [
        {
          "output_type": "execute_result",
          "data": {
            "text/plain": [
              "array([[ 0.16668111, -0.03180243,  0.13721837],\n",
              "       [-0.19029463,  0.0287695 ,  0.01074523],\n",
              "       [ 0.0122617 , -0.00025997, -0.00160312]])"
            ]
          },
          "metadata": {},
          "execution_count": 12
        }
      ]
    },
    {
      "cell_type": "markdown",
      "source": [
        "• A ∈ Rn∗n\n",
        "\n",
        ", I(identity matrix) ∈ Rn∗n\n",
        ", v ∈ Rn\n",
        "\n",
        "• Eigenvalue (λ): det(A − λI) = 0\n",
        "• Eigenvector (v): Av = λv ⇐⇒ (A − λI)v = 0\n",
        "• Normalize vector: v\n",
        "∥ v ∥\n",
        ", vi = p\n",
        "vi\n",
        "Σn\n",
        "1\n",
        "v\n",
        "2"
      ],
      "metadata": {
        "id": "QqdpqXm4FZf8"
      }
    },
    {
      "cell_type": "code",
      "source": [
        "def compute_eigenvalues_eigenvectors(matrix):\n",
        "    matrix = np.array(matrix)\n",
        "    eigenvalues, eigenvectors = np.linalg.eig(matrix)\n",
        "    return eigenvalues, eigenvectors"
      ],
      "metadata": {
        "id": "cToE5mcTJZPE"
      },
      "execution_count": 9,
      "outputs": []
    },
    {
      "cell_type": "markdown",
      "source": [
        "• Data (vector x, y): x = {x1, ..., xN } y = {y1, ..., yN }\n",
        "• Cosine Similarity: cs(x, y) = x · y\n",
        "∥ x ∥∥ y ∥\n",
        "=\n",
        "Σ\n",
        "n\n",
        "p\n",
        "1xiyi\n",
        "Σn\n",
        "1x\n",
        "2\n",
        "i\n",
        "p\n",
        "Σn\n",
        "1\n",
        "y\n",
        "2\n",
        "i"
      ],
      "metadata": {
        "id": "WncB4EXdJixR"
      }
    },
    {
      "cell_type": "code",
      "source": [
        "def compute_cosine(v1,v2):\n",
        "    v1 = np.array(v1)\n",
        "    v2 = np.array(v2)\n",
        "    return np.dot(v1,v2) / (np.linalg.norm(v1) * np.linalg.norm(v2))\n"
      ],
      "metadata": {
        "id": "IN6gBQ2xJoXa"
      },
      "execution_count": null,
      "outputs": []
    },
    {
      "cell_type": "code",
      "source": [
        "import numpy as np\n",
        "from google.colab.patches import cv2_imshow\n",
        "import cv2\n",
        "\n",
        "bg1_image = cv2.imread('/content/GreenBackground.png', 1)\n",
        "bg1_image = cv2.resize(bg1_image, (678, 381))\n",
        "\n",
        "ob_image = cv2.imread('/content/Object.png', 1)\n",
        "ob_image = cv2.resize(ob_image, (678, 381))\n",
        "\n",
        "bg2_image = cv2.imread('/content/NewBackground.jpg', 1)\n",
        "bg2_image = cv2.resize(bg2_image, (678, 381))\n"
      ],
      "metadata": {
        "id": "fX4VJ8l5Muif"
      },
      "execution_count": 4,
      "outputs": []
    },
    {
      "cell_type": "code",
      "source": [
        "import cv2\n",
        "import numpy as np\n",
        "from google.colab.patches import cv2_imshow\n",
        "\n",
        "# Giả sử original_background_resized_img và object_resized_img đã được định nghĩa trước đó\n",
        "# original_background_resized_img = ...\n",
        "# object_resized_img = ...\n",
        "\n",
        "# Tính toán sự khác biệt giữa hai hình ảnh\n",
        "differences = cv2.absdiff(original_background_resized_img, object_resized_img)\n",
        "cv2_imshow(differences)\n",
        "print(differences.shape)\n",
        "\n",
        "# Tính toán sự khác biệt đơn kênh\n",
        "differences_single = np.sum(differences, axis=2) / 3.0\n",
        "print(differences_single[0])\n",
        "\n",
        "# Chuyển đổi kiểu dữ liệu\n",
        "differences_single = differences_single.astype(np.uint8)\n",
        "cv2_imshow(differences_single)\n",
        "print(differences_single.shape)\n"
      ],
      "metadata": {
        "colab": {
          "base_uri": "https://localhost:8080/",
          "height": 211
        },
        "id": "7pHxbT7sPEAs",
        "outputId": "cea3724f-fc25-4813-d579-8ac59c45745f"
      },
      "execution_count": 8,
      "outputs": [
        {
          "output_type": "error",
          "ename": "NameError",
          "evalue": "name 'original_background_resized_img' is not defined",
          "traceback": [
            "\u001b[0;31m---------------------------------------------------------------------------\u001b[0m",
            "\u001b[0;31mNameError\u001b[0m                                 Traceback (most recent call last)",
            "\u001b[0;32m<ipython-input-8-1d0699bd37a7>\u001b[0m in \u001b[0;36m<cell line: 10>\u001b[0;34m()\u001b[0m\n\u001b[1;32m      8\u001b[0m \u001b[0;34m\u001b[0m\u001b[0m\n\u001b[1;32m      9\u001b[0m \u001b[0;31m# Tính toán sự khác biệt giữa hai hình ảnh\u001b[0m\u001b[0;34m\u001b[0m\u001b[0;34m\u001b[0m\u001b[0m\n\u001b[0;32m---> 10\u001b[0;31m \u001b[0mdifferences\u001b[0m \u001b[0;34m=\u001b[0m \u001b[0mcv2\u001b[0m\u001b[0;34m.\u001b[0m\u001b[0mabsdiff\u001b[0m\u001b[0;34m(\u001b[0m\u001b[0moriginal_background_resized_img\u001b[0m\u001b[0;34m,\u001b[0m \u001b[0mobject_resized_img\u001b[0m\u001b[0;34m)\u001b[0m\u001b[0;34m\u001b[0m\u001b[0;34m\u001b[0m\u001b[0m\n\u001b[0m\u001b[1;32m     11\u001b[0m \u001b[0mcv2_imshow\u001b[0m\u001b[0;34m(\u001b[0m\u001b[0mdifferences\u001b[0m\u001b[0;34m)\u001b[0m\u001b[0;34m\u001b[0m\u001b[0;34m\u001b[0m\u001b[0m\n\u001b[1;32m     12\u001b[0m \u001b[0mprint\u001b[0m\u001b[0;34m(\u001b[0m\u001b[0mdifferences\u001b[0m\u001b[0;34m.\u001b[0m\u001b[0mshape\u001b[0m\u001b[0;34m)\u001b[0m\u001b[0;34m\u001b[0m\u001b[0;34m\u001b[0m\u001b[0m\n",
            "\u001b[0;31mNameError\u001b[0m: name 'original_background_resized_img' is not defined"
          ]
        }
      ]
    },
    {
      "cell_type": "code",
      "source": [
        "import numpy as np\n",
        "import cv2\n",
        "from google.colab.patches import cv2_imshow\n",
        "\n",
        "def compute_binary_mask(difference_single_channel):\n",
        "    difference_binary = np.where(difference_single_channel >= 15, 255, 0)\n",
        "    difference_binary = np.stack((difference_binary,)*3, axis=-1)\n",
        "    return difference_binary\n",
        "\n",
        "# Giả sử difference_single_channel là một ma trận đơn kênh\n",
        "difference_single_channel = np.array([\n",
        "    [6, 10, 100],\n",
        "    [5, 12, 50]\n",
        "])\n",
        "\n",
        "binary_mask = compute_binary_mask(difference_single_channel)\n",
        "cv2_imshow(binary_mask)\n"
      ],
      "metadata": {
        "colab": {
          "base_uri": "https://localhost:8080/",
          "height": 34
        },
        "id": "P5cTsq6YMv0f",
        "outputId": "a270cb69-5951-4488-ba30-98dbb651b79c"
      },
      "execution_count": 6,
      "outputs": [
        {
          "output_type": "display_data",
          "data": {
            "text/plain": [
              "<PIL.Image.Image image mode=RGB size=3x2>"
            ],
            "image/png": "[encoded data removed]"
          },
          "metadata": {}
        }
      ]
    },
    {
      "cell_type": "code",
      "source": [
        "def replace_background(bg1_image, bg2_image, ob_image):\n",
        "    difference_single_channel = compute_difference(\n",
        "        bg1_image,\n",
        "        ob_image\n",
        "    )\n",
        "\n",
        "    binary_mask = compute_binary_mask(difference_single_channel)\n",
        "\n",
        "    output = np.where(binary_mask==255, ob_image, bg2_image)\n",
        "\n",
        "    return output\n"
      ],
      "metadata": {
        "id": "Vkeq6yALNG4B"
      },
      "execution_count": 7,
      "outputs": []
    }
  ]
}